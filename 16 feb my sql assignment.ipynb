{
 "cells": [
  {
   "cell_type": "markdown",
   "id": "fe2a41f1-f9aa-4a95-ac0a-cb85656c9be1",
   "metadata": {},
   "source": [
    "### Q1 What is a database? Differentiate between SQL and NoSQL databases?"
   ]
  },
  {
   "cell_type": "markdown",
   "id": "33c1e340-45c3-4372-a47c-49f0ec56cadf",
   "metadata": {},
   "source": [
    "Python supports various databases like SQLite, MySQL, Oracle, Sybase, PostgreSQL, etc. Python also supports Data Definition Language (DDL), Data Manipulation Language (DML) and Data Query Statements. The Python standard for database interfaces is the Python DB-API."
   ]
  },
  {
   "cell_type": "markdown",
   "id": "ff7b3bf1-b81d-4e78-999d-455ad66b923d",
   "metadata": {},
   "source": [
    "Differntiate between sql and my sql\n",
    "1. SQL databases are primarily called Relational Databases (RDBMS); whereas NoSQL databases are primarily called non-relational or distributed databases.\n",
    "2. SQL databases are table-based on the other hand NoSQL databases are either key-value pairs, document-based, graph databases, or wide-column stores.\n",
    "3. Great support is available for all SQL databases from their vendors. Also, a lot of independent consultants are there who can help you with SQL databases for very large-scale deployments but for some NoSQL databases you still have to rely on community support and only limited outside experts are available for setting up and deploying your large-scale NoSQL deploy"
   ]
  },
  {
   "cell_type": "markdown",
   "id": "ad33699c-75f8-4a1e-b67a-4316d6e7b42c",
   "metadata": {},
   "source": [
    "### Q2. What is DDL? Explain why CREATE, DROP, ALTER, and TRUNCATE are used with an example."
   ]
  },
  {
   "cell_type": "markdown",
   "id": "ad332840-001e-419c-bdcb-b0906cc16fc6",
   "metadata": {},
   "source": [
    "Data definition language (DDL) statements let you to perform these tasks: Create, alter, and drop schema objects. Grant and revoke privileges and roles. Analyze information on a table, index, or cluster. Establish auditing options"
   ]
  },
  {
   "cell_type": "markdown",
   "id": "78d7d2a4-d92d-4788-b208-6e18dfcf46d2",
   "metadata": {},
   "source": [
    "1. create:- The CREATE TABLE command creates a new table in the database.\n",
    "2. Alter:- The ALTER TABLE command adds, deletes, or modifies columns in a table.The ALTER TABLE command also adds and deletes various constraints in a table\n",
    "3. Drop:- The DROP TABLE command deletes a table in the database.\n",
    "4. Truncate:- The TRUNCATE TABLE command deletes the data inside a table, but not the table itself."
   ]
  },
  {
   "cell_type": "markdown",
   "id": "14f3e638-6ec9-4204-a182-78af12b894bb",
   "metadata": {},
   "source": [
    "### Q3. What is DML?Explain INSERT, UPDATE, and DELETE with an example."
   ]
  },
  {
   "cell_type": "markdown",
   "id": "c93447fe-6607-43a8-ad3b-3bbc01c23cbf",
   "metadata": {},
   "source": [
    "Data Manipulation Language is the component of the SQL statement that controls access to data and to the database."
   ]
  },
  {
   "cell_type": "markdown",
   "id": "6a66f761-ffb0-4b83-848f-595ef3e6a829",
   "metadata": {},
   "source": [
    "1. The INSERT statement is used to insert a new row in the database that is adding data to a table.\n",
    "2. The UPDATE statement is used to update the data or row in the table\n",
    "3. The DELETE statement is used to delete a row from the table in the database."
   ]
  },
  {
   "cell_type": "markdown",
   "id": "f9812057-3cf8-41b9-8751-84b8d2e3c144",
   "metadata": {},
   "source": [
    "### Q4. What is DQL? Explain SELECT with an example."
   ]
  },
  {
   "cell_type": "markdown",
   "id": "9ee86ca1-4fce-4f8d-a93c-e1368be855f3",
   "metadata": {},
   "source": [
    "DQL or data query language is to perform the query on the data inside the schema or object (ie table, index, view, function, etc). With the help of a DQL query, we can get the data from the database to perform actions or operations like analyzing the data."
   ]
  },
  {
   "cell_type": "markdown",
   "id": "c9789524-f7b2-49b8-9a6c-6c21ecd8d964",
   "metadata": {},
   "source": [
    "The SELECT command is used to query or retrieve data from a table in the database. It is used to retrieve a subset of records from one or more tables. The SELECT command can be used in various forms:\n",
    "\n",
    "Syntax of SELECT command :\n",
    "\n",
    "SELECT <column-list> FROM <table-name>;"
   ]
  },
  {
   "cell_type": "markdown",
   "id": "125c704f-024b-4011-8c8a-2e9a0cfc27dd",
   "metadata": {},
   "source": [
    "### Q5 Explain primary key and foreign key?"
   ]
  },
  {
   "cell_type": "markdown",
   "id": "67bf4439-eeba-40f8-8770-f261edf33f4a",
   "metadata": {},
   "source": [
    "A primary key generally focuses on the uniqueness of the table. It assures the value in the specific column is unique. A foreign key is generally used to build a relationship between the two tables. The table allows only one primary key."
   ]
  },
  {
   "cell_type": "markdown",
   "id": "e686ebad-d0fb-44dc-8145-f9232139959e",
   "metadata": {},
   "source": [
    "### Q6. Write a python code to connect MySQL to python. Explain the cursor() and execute() method."
   ]
  },
  {
   "cell_type": "markdown",
   "id": "c11c13db-7ec0-48b2-96f9-b37325c41153",
   "metadata": {},
   "source": [
    "import mysql.connector\n",
    "mydb = mysql.connector.connect(\n",
    "  host=\"localhost\",\n",
    "  user=\"abc\",\n",
    "  password=\"password\"\n",
    ")\n",
    "mycursor = mydb.cursor()\n",
    "mycursor.execute(\"slect * test1.test_table\")\n",
    "for i in mycursor.fetchall():\n",
    "    print(i)"
   ]
  },
  {
   "cell_type": "markdown",
   "id": "bfdafe22-e2fc-4a8e-bb64-d828b4ccc876",
   "metadata": {},
   "source": [
    "### Q7. Give the order of execution of SQL clauses in an SQL query."
   ]
  },
  {
   "cell_type": "markdown",
   "id": "f4d2f33b-fa57-4b53-83c2-1a618da361d3",
   "metadata": {},
   "source": [
    "Order\tClause\tFunction\n",
    "1\t    FROM\tTables are joined to get the base data.\n",
    "2\t    WHERE\tThe base data is filtered.\n",
    "3\t    GROUP BY\tThe filtered base data is grouped.\n",
    "4\t    HAVING\tThe grouped base data is filtered.\n",
    "5\t    SELECT\tThe final data is returned.\n",
    "6\t    ORDER BY\tThe final data is sorted.\n",
    "7    \tLIMIT\tThe returned data is limited to row count."
   ]
  }
 ],
 "metadata": {
  "kernelspec": {
   "display_name": "Python 3 (ipykernel)",
   "language": "python",
   "name": "python3"
  },
  "language_info": {
   "codemirror_mode": {
    "name": "ipython",
    "version": 3
   },
   "file_extension": ".py",
   "mimetype": "text/x-python",
   "name": "python",
   "nbconvert_exporter": "python",
   "pygments_lexer": "ipython3",
   "version": "3.10.8"
  }
 },
 "nbformat": 4,
 "nbformat_minor": 5
}

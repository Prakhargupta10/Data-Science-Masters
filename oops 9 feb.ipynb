{
 "cells": [
  {
   "cell_type": "markdown",
   "id": "05c427d2-ae1f-43eb-8769-cd2a13116ee2",
   "metadata": {},
   "source": [
    "### Q1, Create a vehicle class with an init method having instance variables as name_of_vehicle, max_speed and average_of_vehicle?\n"
   ]
  },
  {
   "cell_type": "code",
   "execution_count": 4,
   "id": "e3c1bf6f-5043-40d6-b771-0c5bf1371cb3",
   "metadata": {},
   "outputs": [],
   "source": [
    "class vehicle:\n",
    "    def __init__(self,name_of_vehicle,max_speed,average_of_vehicle):\n",
    "        self.name_of_vehicle=name_of_vehicle\n",
    "        self.max_speed=max_speed\n",
    "        self.average_of_vehicle=average_of_vehicle\n",
    "    def return_car_details(self):\n",
    "        return self.name_of_vehicle,self.max_speed,self.average_of_vehicle"
   ]
  },
  {
   "cell_type": "code",
   "execution_count": 5,
   "id": "8dd5a8e9-166b-4d6e-a63d-24dba668ebe0",
   "metadata": {},
   "outputs": [],
   "source": [
    "prakhar= vehicle(\"Fortuner\",200,20)"
   ]
  },
  {
   "cell_type": "code",
   "execution_count": 6,
   "id": "f1c2bc62-2f5d-4e61-a7db-c6731212969f",
   "metadata": {},
   "outputs": [
    {
     "data": {
      "text/plain": [
       "('Fortuner', 200, 20)"
      ]
     },
     "execution_count": 6,
     "metadata": {},
     "output_type": "execute_result"
    }
   ],
   "source": [
    "prakhar.return_car_details()"
   ]
  },
  {
   "cell_type": "code",
   "execution_count": 7,
   "id": "0204e81d-cd0e-41bb-b6a3-93fe9ff0459b",
   "metadata": {},
   "outputs": [
    {
     "data": {
      "text/plain": [
       "200"
      ]
     },
     "execution_count": 7,
     "metadata": {},
     "output_type": "execute_result"
    }
   ],
   "source": [
    "prakhar.max_speed"
   ]
  },
  {
   "cell_type": "code",
   "execution_count": 8,
   "id": "0f7b6e61-c82b-405d-ac50-31dfe4415f55",
   "metadata": {},
   "outputs": [
    {
     "data": {
      "text/plain": [
       "'Fortuner'"
      ]
     },
     "execution_count": 8,
     "metadata": {},
     "output_type": "execute_result"
    }
   ],
   "source": [
    "prakhar.name_of_vehicle"
   ]
  },
  {
   "cell_type": "code",
   "execution_count": 9,
   "id": "121fd9cb-2d02-4241-ab75-dab75656edea",
   "metadata": {},
   "outputs": [
    {
     "data": {
      "text/plain": [
       "20"
      ]
     },
     "execution_count": 9,
     "metadata": {},
     "output_type": "execute_result"
    }
   ],
   "source": [
    "prakhar.average_of_vehicle"
   ]
  },
  {
   "cell_type": "markdown",
   "id": "7ad58eec-f0c6-4812-b877-4a9c75810146",
   "metadata": {},
   "source": [
    "### Q2.  Create a child class car from the vehicle class created in Que 1, which will inherit the vehicle class. \n",
    "### Create a method named seating_capacity which takes capacity as an argument and returns the name of \n",
    "### the vehicle and its seating capacity?"
   ]
  },
  {
   "cell_type": "code",
   "execution_count": 11,
   "id": "e63d5c68-ae69-40e3-8799-c31cb859b18d",
   "metadata": {},
   "outputs": [],
   "source": [
    "class car(vehicle):\n",
    "    def seating_capacity(self,capacity):\n",
    "        return f\"The {self.name_of_vehicle} has a seating capacity of {capacity}\""
   ]
  },
  {
   "cell_type": "code",
   "execution_count": 14,
   "id": "350d024d-aa00-4d65-8a17-c564a39a62c5",
   "metadata": {},
   "outputs": [
    {
     "name": "stdout",
     "output_type": "stream",
     "text": [
      "The fortuner has a seating capacity of 10\n"
     ]
    }
   ],
   "source": [
    "my_car=car(\"fortuner\",200,20)\n",
    "print(my_car.seating_capacity(10))"
   ]
  },
  {
   "cell_type": "markdown",
   "id": "2d2b9933-356a-4315-92b4-d0c51753409d",
   "metadata": {},
   "source": [
    "### Q3. What is multiple inheritance? Write a python code to demonstrate multiple inheritance.\n"
   ]
  },
  {
   "cell_type": "markdown",
   "id": "5e1fc822-3038-4b5b-8d3b-6273ccfa5b82",
   "metadata": {},
   "source": [
    "If a child class is inheriting the properties of a single other class, we call it single inheritance. However, if a child class inherits from more than one class, i.e. this child class is derived from multiple classes, we call it multiple inheritance in Python."
   ]
  },
  {
   "cell_type": "code",
   "execution_count": 15,
   "id": "711d5847-965b-4407-9ae7-47f877a602d6",
   "metadata": {},
   "outputs": [],
   "source": [
    "### Example of multiple inheritance\n",
    "class prakhar:\n",
    "    def test_class(self):\n",
    "        print(\"This is my class first\")"
   ]
  },
  {
   "cell_type": "code",
   "execution_count": 16,
   "id": "27a4439e-5c8d-46fd-8c03-d21431f2fb32",
   "metadata": {},
   "outputs": [],
   "source": [
    "class prakhar1:\n",
    "    def test_class1(self):\n",
    "        print(\"This is my class second\")"
   ]
  },
  {
   "cell_type": "code",
   "execution_count": 17,
   "id": "aef88b21-cb85-4fa5-82d4-478b8c940566",
   "metadata": {},
   "outputs": [],
   "source": [
    "class prakhar2(prakhar,prakhar1):\n",
    "     pass"
   ]
  },
  {
   "cell_type": "code",
   "execution_count": 18,
   "id": "fa9d94e1-4dc6-4e99-b5b7-c1ce6c82a21d",
   "metadata": {},
   "outputs": [],
   "source": [
    "obj_prakhar=prakhar2()"
   ]
  },
  {
   "cell_type": "code",
   "execution_count": 20,
   "id": "d6a67697-3a4b-460d-bbb8-0e1c843cebb6",
   "metadata": {},
   "outputs": [
    {
     "name": "stdout",
     "output_type": "stream",
     "text": [
      "This is my class first\n"
     ]
    }
   ],
   "source": [
    "obj_prakhar.test_class()"
   ]
  },
  {
   "cell_type": "code",
   "execution_count": 21,
   "id": "5f8af988-a01d-4e78-82ac-c836b02a8dfc",
   "metadata": {},
   "outputs": [
    {
     "name": "stdout",
     "output_type": "stream",
     "text": [
      "This is my class second\n"
     ]
    }
   ],
   "source": [
    "obj_prakhar.test_class1()"
   ]
  },
  {
   "cell_type": "markdown",
   "id": "c5c2caf8-ad5f-4e04-ae1a-4db99b6dac9a",
   "metadata": {},
   "source": [
    "### Q4. What are getter and setter in python? Create a class and create a getter and a setter method in this \n",
    "### class.\n"
   ]
  },
  {
   "cell_type": "markdown",
   "id": "c2df481a-fd63-4c59-9abe-7f6794538ac8",
   "metadata": {},
   "source": [
    "Getters are the methods that are used in Object-Oriented Programming (OOPS) to access a class's private attributes and the setter is a method that is used to set the property's value. It is very useful in object-oriented programming to set the value of private attributes in a class."
   ]
  },
  {
   "cell_type": "code",
   "execution_count": 30,
   "id": "a6080730-eb42-4f73-a2e6-6e17a0e94147",
   "metadata": {},
   "outputs": [],
   "source": [
    "### Example using getter and setter\n",
    "class prakhar:\n",
    "    def __init__(self,model,speed,average):\n",
    "        self.__model=model\n",
    "        self.__speed=0\n",
    "        self.__average=average\n",
    "    def set_speed(self,speed):\n",
    "        self.__speed= 0 if speed<0 else speed\n",
    "    def get_speed(self):\n",
    "        return self.__speed\n",
    "        "
   ]
  },
  {
   "cell_type": "code",
   "execution_count": 24,
   "id": "0aaf1492-b1ae-4eb8-bbfd-a74f35e6b0be",
   "metadata": {},
   "outputs": [],
   "source": [
    "car=prakhar(\"Fortuner\",150,25)"
   ]
  },
  {
   "cell_type": "code",
   "execution_count": 25,
   "id": "cf090bcf-28e9-43a6-bc19-f0e08c8ade48",
   "metadata": {},
   "outputs": [
    {
     "data": {
      "text/plain": [
       "0"
      ]
     },
     "execution_count": 25,
     "metadata": {},
     "output_type": "execute_result"
    }
   ],
   "source": [
    "car.get_speed()"
   ]
  },
  {
   "cell_type": "code",
   "execution_count": 32,
   "id": "da6db5ec-bc16-4a84-99fe-b0f6f6836496",
   "metadata": {},
   "outputs": [],
   "source": [
    "car.set_speed(200)"
   ]
  },
  {
   "cell_type": "markdown",
   "id": "af68b03f-ed99-400a-b982-1670e3f44dd1",
   "metadata": {},
   "source": [
    "### Q5.What is method overriding in python? Write a python code to demonstrate method overriding"
   ]
  },
  {
   "cell_type": "markdown",
   "id": "171b194b-3f81-400e-9349-c65632b83b55",
   "metadata": {},
   "source": [
    "Method overriding is a concept of object oriented programming that allows us to change the implementation of a function in the child class that is defined in the parent class. It is the ability of a child class to change the implementation of any method which is already provided by one of its parent class(ancestors)."
   ]
  }
 ],
 "metadata": {
  "kernelspec": {
   "display_name": "Python 3 (ipykernel)",
   "language": "python",
   "name": "python3"
  },
  "language_info": {
   "codemirror_mode": {
    "name": "ipython",
    "version": 3
   },
   "file_extension": ".py",
   "mimetype": "text/x-python",
   "name": "python",
   "nbconvert_exporter": "python",
   "pygments_lexer": "ipython3",
   "version": "3.10.8"
  }
 },
 "nbformat": 4,
 "nbformat_minor": 5
}

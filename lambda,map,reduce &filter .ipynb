{
 "cells": [
  {
   "cell_type": "markdown",
   "id": "0afbea4c-86dd-4c05-bdf4-79810b864135",
   "metadata": {},
   "source": [
    "### Q1 Create a python program to sort the given list of the tuples based on integer value using lambda function?\n",
    " [('Sachin Tendulkar',34357),('Ricky Pointing',27483),('Jack kallis',25534),('Virat Kholi',24936)]"
   ]
  },
  {
   "cell_type": "code",
   "execution_count": 1,
   "id": "e4a47f5b-6681-4d25-a5c3-62741510e50e",
   "metadata": {},
   "outputs": [],
   "source": [
    "my_list=[('Sachin Tendulkar',34357),('Ricky Pointing',27843),('jack kallis',25534),('Virat Kohli',24936)]"
   ]
  },
  {
   "cell_type": "code",
   "execution_count": 2,
   "id": "6eab17f7-788b-4221-9bb7-c63a64a13e14",
   "metadata": {},
   "outputs": [
    {
     "name": "stdout",
     "output_type": "stream",
     "text": [
      "[('Virat Kohli', 24936), ('jack kallis', 25534), ('Ricky Pointing', 27843), ('Sachin Tendulkar', 34357)]\n"
     ]
    }
   ],
   "source": [
    "my_list.sort(key=lambda x:x[1])\n",
    "print(my_list)"
   ]
  },
  {
   "cell_type": "markdown",
   "id": "c68b1e7f-14a0-4bce-aebc-49f106fb84da",
   "metadata": {},
   "source": [
    "### Q2 Write a python program to find the squares of all the number in the given list of integers using lambda and map function?\n",
    "[1,2,3,4,5,6,7,8,9,10]"
   ]
  },
  {
   "cell_type": "code",
   "execution_count": 6,
   "id": "b6247c72-e129-46a5-96bd-86b628f35a32",
   "metadata": {},
   "outputs": [],
   "source": [
    "my_lst=[1,2,3,4,5,6,7,8,9,10]"
   ]
  },
  {
   "cell_type": "code",
   "execution_count": 7,
   "id": "3ede43c7-816c-49b0-b189-6eb36f6b7e22",
   "metadata": {},
   "outputs": [
    {
     "data": {
      "text/plain": [
       "[1, 4, 9, 16, 25, 36, 49, 64, 81, 100]"
      ]
     },
     "execution_count": 7,
     "metadata": {},
     "output_type": "execute_result"
    }
   ],
   "source": [
    "list(map(lambda x:x**2,my_lst))"
   ]
  },
  {
   "cell_type": "markdown",
   "id": "c7e50f11-e6f0-46a3-8033-b04898e98ff7",
   "metadata": {},
   "source": [
    "### Q3. Write a python program to convert the given list of integers into a tuple of strings. Use map and lambda function\n",
    "\n",
    "\n",
    "Given String: [1, 2, 3, 4, 5, 6, 7, 8, 9, 10]\n",
    "\n",
    "Expected output: ('1', '2', '3', '4', '5', '6', '7', '8', '9', '10')"
   ]
  },
  {
   "cell_type": "code",
   "execution_count": 10,
   "id": "458e53d2-b124-4aee-83cf-74fe7681fdc5",
   "metadata": {},
   "outputs": [],
   "source": [
    "my_string=[1,2,3,4,5,6,7,8,9,10]"
   ]
  },
  {
   "cell_type": "code",
   "execution_count": 13,
   "id": "3bf08525-7edd-4697-89ae-04787a08e4c1",
   "metadata": {},
   "outputs": [
    {
     "data": {
      "text/plain": [
       "('1', '2', '3', '4', '5', '6', '7', '8', '9', '10')"
      ]
     },
     "execution_count": 13,
     "metadata": {},
     "output_type": "execute_result"
    }
   ],
   "source": [
    "tuple(map(lambda x:str(x),my_string))"
   ]
  },
  {
   "cell_type": "markdown",
   "id": "f095edfc-9d29-4531-b5f5-57f088e0e68c",
   "metadata": {},
   "source": [
    "### Q4.  Write a python program using reduce function to compute the product of a list containing numbers from 1 to 25?"
   ]
  },
  {
   "cell_type": "code",
   "execution_count": 14,
   "id": "e6d3f4a5-0ddf-442c-b03f-d30c9bfbe371",
   "metadata": {},
   "outputs": [],
   "source": [
    "from functools import reduce"
   ]
  },
  {
   "cell_type": "code",
   "execution_count": 15,
   "id": "d19610c4-3724-46aa-bd88-872a1555d633",
   "metadata": {},
   "outputs": [],
   "source": [
    "l3=[1,2,3,4,5,6,7,8,9,10,11,12,13,14,15,16,17,18,19,20,21,22,23,24,25]"
   ]
  },
  {
   "cell_type": "code",
   "execution_count": 16,
   "id": "419aff43-e8c7-4ee2-b91d-cf19b05a0ae7",
   "metadata": {},
   "outputs": [
    {
     "data": {
      "text/plain": [
       "15511210043330985984000000"
      ]
     },
     "execution_count": 16,
     "metadata": {},
     "output_type": "execute_result"
    }
   ],
   "source": [
    "reduce(lambda x,y: x*y,l3)"
   ]
  },
  {
   "cell_type": "markdown",
   "id": "09e4c9b7-8390-458e-a95d-635978f6163e",
   "metadata": {},
   "source": [
    "### Q5. Write a python program to filter the numbers in a given list that are divisible by 2 and 3 using the filter function\n",
    "\n",
    "\n",
    "[2, 3, 6, 9, 27, 60, 90, 120, 55, 46]"
   ]
  },
  {
   "cell_type": "code",
   "execution_count": 17,
   "id": "d2202c61-29aa-4aaa-a1a6-51174ca08cf0",
   "metadata": {},
   "outputs": [],
   "source": [
    "l4=[2,3,6,9,27,60,90,120,55,46]"
   ]
  },
  {
   "cell_type": "code",
   "execution_count": 18,
   "id": "ff749ce6-fb4c-41d7-84bf-ec50e04804d5",
   "metadata": {},
   "outputs": [
    {
     "data": {
      "text/plain": [
       "[2, 3, 6, 9, 27, 60, 90, 120, 46]"
      ]
     },
     "execution_count": 18,
     "metadata": {},
     "output_type": "execute_result"
    }
   ],
   "source": [
    "list(filter(lambda x: x if x%2==0  else x%3==0 ,l4))"
   ]
  },
  {
   "cell_type": "markdown",
   "id": "0038e3f5-eefe-428d-9224-80ace7974efd",
   "metadata": {},
   "source": [
    "### Q6. Write a python program to find palindromes in the given list of strings using lambda and filter function.\n",
    "\n",
    "\n",
    "\n",
    "['python', 'php', 'aba', 'radar', 'level']"
   ]
  },
  {
   "cell_type": "code",
   "execution_count": 22,
   "id": "2d7795e1-09c6-4fa3-bd43-5ccc6c3a1d78",
   "metadata": {},
   "outputs": [
    {
     "name": "stdout",
     "output_type": "stream",
     "text": [
      "['python', 'php', 'aba', 'radar', 'level']\n"
     ]
    }
   ],
   "source": [
    "l5=['python', 'php', 'aba', 'radar','level']\n",
    "is_palindrome=lambda string:string==string[::1]\n",
    "palindrome_list=list(filter(is_palindrome,l5))\n",
    "print(palindrome_list)"
   ]
  }
 ],
 "metadata": {
  "kernelspec": {
   "display_name": "Python 3 (ipykernel)",
   "language": "python",
   "name": "python3"
  },
  "language_info": {
   "codemirror_mode": {
    "name": "ipython",
    "version": 3
   },
   "file_extension": ".py",
   "mimetype": "text/x-python",
   "name": "python",
   "nbconvert_exporter": "python",
   "pygments_lexer": "ipython3",
   "version": "3.10.8"
  }
 },
 "nbformat": 4,
 "nbformat_minor": 5
}

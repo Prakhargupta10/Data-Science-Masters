{
 "cells": [
  {
   "cell_type": "markdown",
   "id": "10b5f318-b775-42f1-8033-fc8b96be320e",
   "metadata": {},
   "source": [
    "### Q1 What is an Exception in python? write the differnce between exception and syntax error?"
   ]
  },
  {
   "cell_type": "markdown",
   "id": "221ebd78-e4e9-46d8-b9ff-9fb882bd48f1",
   "metadata": {},
   "source": [
    "An exception is an event, which occurs during the execution of a program that disrupts the normal flow of the program's instructions. In general, when a Python script encounters a situation that it cannot cope with, it raises an exception. An exception is a Python object that represents an error."
   ]
  },
  {
   "cell_type": "markdown",
   "id": "07fc36cc-0185-4b90-89dd-dc51b239fe13",
   "metadata": {},
   "source": [
    "Difference between exception and syntax error:-\n",
    "An error is an issue in a program that prevents the program from completing its task. In comparison, an exception is a condition that interrupts the normal flow of the program. Both errors and exceptions are a type of runtime error, which means they occur during the execution of a program."
   ]
  },
  {
   "cell_type": "markdown",
   "id": "46e40177-2f6d-4ebb-a2e5-023b5cbc3382",
   "metadata": {},
   "source": [
    "### Q2 What happen when an exception is not handled?Explain with an example?"
   ]
  },
  {
   "cell_type": "markdown",
   "id": "669a701d-28a9-4223-b899-a4179deea841",
   "metadata": {},
   "source": [
    "If the exception is not handled by an except clause, the exception is re-raised after the finally clause has been executed."
   ]
  },
  {
   "cell_type": "code",
   "execution_count": 12,
   "id": "6186f408-cabc-4b66-a83b-7799d9671fe7",
   "metadata": {},
   "outputs": [
    {
     "ename": "FileNotFoundError",
     "evalue": "[Errno 2] No such file or directory: 'test.txt'",
     "output_type": "error",
     "traceback": [
      "\u001b[0;31m---------------------------------------------------------------------------\u001b[0m",
      "\u001b[0;31mFileNotFoundError\u001b[0m                         Traceback (most recent call last)",
      "Cell \u001b[0;32mIn[12], line 1\u001b[0m\n\u001b[0;32m----> 1\u001b[0m f \u001b[38;5;241m=\u001b[39m \u001b[38;5;28;43mopen\u001b[39;49m\u001b[43m(\u001b[49m\u001b[38;5;124;43m\"\u001b[39;49m\u001b[38;5;124;43mtest.txt\u001b[39;49m\u001b[38;5;124;43m\"\u001b[39;49m\u001b[43m \u001b[49m\u001b[43m,\u001b[49m\u001b[43m \u001b[49m\u001b[38;5;124;43m'\u001b[39;49m\u001b[38;5;124;43mr\u001b[39;49m\u001b[38;5;124;43m'\u001b[39;49m\u001b[43m)\u001b[49m\n\u001b[1;32m      2\u001b[0m \u001b[38;5;28mprint\u001b[39m(\u001b[38;5;124m\"\u001b[39m\u001b[38;5;124mthis is my print\u001b[39m\u001b[38;5;124m\"\u001b[39m)\n\u001b[1;32m      3\u001b[0m \u001b[38;5;66;03m### The above code show error because we cannot use except \u001b[39;00m\n",
      "File \u001b[0;32m/opt/conda/lib/python3.10/site-packages/IPython/core/interactiveshell.py:282\u001b[0m, in \u001b[0;36m_modified_open\u001b[0;34m(file, *args, **kwargs)\u001b[0m\n\u001b[1;32m    275\u001b[0m \u001b[38;5;28;01mif\u001b[39;00m file \u001b[38;5;129;01min\u001b[39;00m {\u001b[38;5;241m0\u001b[39m, \u001b[38;5;241m1\u001b[39m, \u001b[38;5;241m2\u001b[39m}:\n\u001b[1;32m    276\u001b[0m     \u001b[38;5;28;01mraise\u001b[39;00m \u001b[38;5;167;01mValueError\u001b[39;00m(\n\u001b[1;32m    277\u001b[0m         \u001b[38;5;124mf\u001b[39m\u001b[38;5;124m\"\u001b[39m\u001b[38;5;124mIPython won\u001b[39m\u001b[38;5;124m'\u001b[39m\u001b[38;5;124mt let you open fd=\u001b[39m\u001b[38;5;132;01m{\u001b[39;00mfile\u001b[38;5;132;01m}\u001b[39;00m\u001b[38;5;124m by default \u001b[39m\u001b[38;5;124m\"\u001b[39m\n\u001b[1;32m    278\u001b[0m         \u001b[38;5;124m\"\u001b[39m\u001b[38;5;124mas it is likely to crash IPython. If you know what you are doing, \u001b[39m\u001b[38;5;124m\"\u001b[39m\n\u001b[1;32m    279\u001b[0m         \u001b[38;5;124m\"\u001b[39m\u001b[38;5;124myou can use builtins\u001b[39m\u001b[38;5;124m'\u001b[39m\u001b[38;5;124m open.\u001b[39m\u001b[38;5;124m\"\u001b[39m\n\u001b[1;32m    280\u001b[0m     )\n\u001b[0;32m--> 282\u001b[0m \u001b[38;5;28;01mreturn\u001b[39;00m \u001b[43mio_open\u001b[49m\u001b[43m(\u001b[49m\u001b[43mfile\u001b[49m\u001b[43m,\u001b[49m\u001b[43m \u001b[49m\u001b[38;5;241;43m*\u001b[39;49m\u001b[43margs\u001b[49m\u001b[43m,\u001b[49m\u001b[43m \u001b[49m\u001b[38;5;241;43m*\u001b[39;49m\u001b[38;5;241;43m*\u001b[39;49m\u001b[43mkwargs\u001b[49m\u001b[43m)\u001b[49m\n",
      "\u001b[0;31mFileNotFoundError\u001b[0m: [Errno 2] No such file or directory: 'test.txt'"
     ]
    }
   ],
   "source": [
    "f = open(\"test.txt\" , 'r')\n",
    "print(\"this is my print\")\n",
    "### The above code show error because we cannot use except "
   ]
  },
  {
   "cell_type": "markdown",
   "id": "a02b3ba9-82b9-49f7-90fa-fee111b9a981",
   "metadata": {},
   "source": [
    "### Q3 Which python statement are used to catch and handle exceptions?Explain with example?"
   ]
  },
  {
   "cell_type": "markdown",
   "id": "4caff69d-a148-490f-97ca-9ad65a142bde",
   "metadata": {},
   "source": [
    "The try and except block in Python is used to catch and handle exceptions. Python executes code following the try statement as a “normal” part of the program."
   ]
  },
  {
   "cell_type": "code",
   "execution_count": 3,
   "id": "2e413638-90be-48c5-9dc0-cf07444d131e",
   "metadata": {},
   "outputs": [
    {
     "name": "stdout",
     "output_type": "stream",
     "text": [
      "this is my print\n"
     ]
    }
   ],
   "source": [
    "try:\n",
    "    f = open(\"prakhar1.txt\" , 'r')\n",
    "except Exception as e :\n",
    "    print(\"there is some issue with my code \", e)\n",
    "print(\"this is my print\")"
   ]
  },
  {
   "cell_type": "markdown",
   "id": "b1316bf5-f275-40bb-be9a-2baef48b94d1",
   "metadata": {},
   "source": [
    "### Q4 Explain with example\n",
    "### a- try and else\n",
    "### b- finally\n",
    "### c- raise"
   ]
  },
  {
   "cell_type": "markdown",
   "id": "242efb2a-52f5-4fc6-841c-9d31a629a5f4",
   "metadata": {},
   "source": [
    "try and else:-The try block lets you test a block of code for errors. The except block lets you handle the error. The else block lets you execute code when there is no error. The finally block lets you execute code, regardless of the result of the try- and except blocks."
   ]
  },
  {
   "cell_type": "code",
   "execution_count": 4,
   "id": "1f866259-306e-4819-bda3-acbcae1d1302",
   "metadata": {},
   "outputs": [
    {
     "name": "stdout",
     "output_type": "stream",
     "text": [
      "this block will execute once try will execute itself without an exception\n"
     ]
    }
   ],
   "source": [
    "### example of try and else\n",
    "try:\n",
    "    f = open(\"prakhar.txt\" , 'w')\n",
    "    f.write(\"this is my msg\")\n",
    "\n",
    "except Exception as e :\n",
    "    print(\"there is some issue with my code \", e)\n",
    "else : \n",
    "        f.close()\n",
    "        print(\"this block will execute once try will execute itself without an exception\")"
   ]
  },
  {
   "cell_type": "markdown",
   "id": "00a97b38-e55f-433e-a1a4-6ddb053c7ee6",
   "metadata": {},
   "source": [
    "finally:-The finally keyword is used in try... except blocks. It defines a block of code to run when the try... except...else block is final. The finally block will be executed no matter if the try block raises an error or not."
   ]
  },
  {
   "cell_type": "code",
   "execution_count": 5,
   "id": "52686c86-92e2-437f-a8af-14cb03bd1ea4",
   "metadata": {},
   "outputs": [
    {
     "name": "stdout",
     "output_type": "stream",
     "text": [
      "this block will execute once try will execute itself without an exception\n",
      "i will execute always \n"
     ]
    }
   ],
   "source": [
    "### example of finally\n",
    "try:\n",
    "    f = open(\"prakhar11.txt\" , 'w')\n",
    "    f.write(\"this is my msg\")\n",
    "\n",
    "except Exception as e :\n",
    "    print(\"there is some issue with my code \", e)\n",
    "else : \n",
    "        f.close()\n",
    "        print(\"this block will execute once try will execute itself without an exception\")\n",
    "        \n",
    "finally :\n",
    "    \n",
    "    print(\"i will execute always \")\n"
   ]
  },
  {
   "cell_type": "markdown",
   "id": "90680c29-f865-4fcd-9d96-2f3273c55c4d",
   "metadata": {},
   "source": [
    "raise:-The raise keyword raises a specific exception when a condition is met or the code encounters an error. The exception raised by the program may either be an exception instance or an exception class. When you use the raise keyword, you can define what kind of error the machine should raise for a particular exception"
   ]
  },
  {
   "cell_type": "code",
   "execution_count": 6,
   "id": "00fc7307-bb74-4dc5-8d5a-3a1990e93da3",
   "metadata": {},
   "outputs": [],
   "source": [
    "### example of raise \n",
    "class prakharage(Exception) : \n",
    "    def __init__(self, msg) :\n",
    "        self.msg = msg"
   ]
  },
  {
   "cell_type": "code",
   "execution_count": 9,
   "id": "590a5c20-b52d-4d03-bd93-f0e3c6743286",
   "metadata": {},
   "outputs": [],
   "source": [
    "def prakhar_age(age) : \n",
    "    if age < 0 : \n",
    "        raise prakharage(\"age should not be lesser then zero \" )\n",
    "    elif age > 200 : \n",
    "        raise prakharage(\"age is too high \" )\n",
    "        \n",
    "    else :\n",
    "        print(\"age is valid\" )"
   ]
  },
  {
   "cell_type": "code",
   "execution_count": 10,
   "id": "16249d8c-83d8-4894-aa10-bf70e8b680ea",
   "metadata": {},
   "outputs": [
    {
     "name": "stdin",
     "output_type": "stream",
     "text": [
      "enter your age 225\n"
     ]
    },
    {
     "name": "stdout",
     "output_type": "stream",
     "text": [
      "age is too high \n"
     ]
    }
   ],
   "source": [
    "try : \n",
    "    age = int(input(\"enter your age\"))\n",
    "    prakhar_age(age)\n",
    "except prakharage as e : \n",
    "    print(e)"
   ]
  },
  {
   "cell_type": "markdown",
   "id": "4f38b170-b2ee-4eb2-b5b9-8f7e5faed7a9",
   "metadata": {},
   "source": [
    "### Q5 What are custom exceptions in python?why do we need custom exceptions?Explain with an example?"
   ]
  },
  {
   "cell_type": "markdown",
   "id": "a25fba58-e80d-48f2-aaed-c3f89ef878e2",
   "metadata": {},
   "source": [
    "In Python, we can define custom exceptions by creating a new class that is derived from the built-in Exception class.Built-in exceptions offer information about Python-related problems, and custom exceptions will add information about project-related problems"
   ]
  },
  {
   "cell_type": "code",
   "execution_count": 13,
   "id": "3733234f-e8a4-4ea8-a944-7550731eb1ca",
   "metadata": {},
   "outputs": [],
   "source": [
    "### Example of custom exception\n",
    "class price(Exception) : \n",
    "    def __init__(self, product_price) :\n",
    "        self.product_price = product_price\n"
   ]
  },
  {
   "cell_type": "code",
   "execution_count": 14,
   "id": "4075e838-c47a-4a67-a7f9-a349315ce2dc",
   "metadata": {},
   "outputs": [],
   "source": [
    "def prakhar_price(pro_price):\n",
    "    if pro_price<500:\n",
    "        raise price(\"price is less than 500\")\n",
    "    elif pro_price>5000:\n",
    "        raise price(\"price is more than 5000\")\n",
    "    else:\n",
    "        print(\"sit at home\")\n",
    "        "
   ]
  },
  {
   "cell_type": "code",
   "execution_count": 18,
   "id": "e0fda7ed-bace-4a2f-862f-08d7dd0bbe41",
   "metadata": {},
   "outputs": [
    {
     "name": "stdin",
     "output_type": "stream",
     "text": [
      "Enter the product price 6000\n"
     ]
    },
    {
     "name": "stdout",
     "output_type": "stream",
     "text": [
      "price is more than 5000\n"
     ]
    }
   ],
   "source": [
    "try:\n",
    "    pro_price=int(input(\"Enter the product price\"))\n",
    "    prakhar_price(pro_price)\n",
    "except price as p:\n",
    "    print(p)"
   ]
  },
  {
   "cell_type": "markdown",
   "id": "17264a1a-329d-452d-a30d-b87121b6b2f9",
   "metadata": {},
   "source": [
    "### Q6 create a custome exception class?use this class to handle an exception?"
   ]
  },
  {
   "cell_type": "code",
   "execution_count": 20,
   "id": "285d5107-5be1-450f-a568-df91251ee708",
   "metadata": {},
   "outputs": [],
   "source": [
    "class chairprice(Exception):\n",
    "    def __init__(self,chair):\n",
    "        self.chair=chair"
   ]
  },
  {
   "cell_type": "code",
   "execution_count": null,
   "id": "188c9569-31f5-4eaf-a130-ca69c3e1c773",
   "metadata": {},
   "outputs": [],
   "source": [
    "def chair_price(price):\n",
    "    if price<500:\n",
    "        raise chairprice(\"No discount provided\")\n",
    "    elif price>500 and price<=1500:\n",
    "        raise chairprice(\"Discount 10% provided\")\n",
    "    elif price>1500:\n",
    "        raise chairprice(\"Dicount 20% provided\")\n",
    "    else:\n",
    "        print(\"Buy carpet\")"
   ]
  },
  {
   "cell_type": "code",
   "execution_count": null,
   "id": "a48ea1a4-7d17-40ed-8cf7-ada3dd1fe448",
   "metadata": {},
   "outputs": [],
   "source": [
    "try:\n",
    "    price=int(input(\"Enter the chair price:\"))\n",
    "    chair_price(price)\n",
    "except chairprice as c:\n",
    "    print(c)"
   ]
  }
 ],
 "metadata": {
  "kernelspec": {
   "display_name": "Python 3 (ipykernel)",
   "language": "python",
   "name": "python3"
  },
  "language_info": {
   "codemirror_mode": {
    "name": "ipython",
    "version": 3
   },
   "file_extension": ".py",
   "mimetype": "text/x-python",
   "name": "python",
   "nbconvert_exporter": "python",
   "pygments_lexer": "ipython3",
   "version": "3.10.8"
  }
 },
 "nbformat": 4,
 "nbformat_minor": 5
}

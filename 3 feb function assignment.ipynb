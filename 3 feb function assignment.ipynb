{
 "cells": [
  {
   "cell_type": "markdown",
   "id": "a71ae1ca-d9c8-4a56-ac5f-110f8616b454",
   "metadata": {},
   "source": [
    "### Q1 Which keyword is used to create a function?create a function to return a list of odd numbers in the range of 1 to 28?"
   ]
  },
  {
   "cell_type": "markdown",
   "id": "ae44187d-7ed5-464e-acb4-b1ec2dfbffe5",
   "metadata": {},
   "source": [
    "define keyword is used to create a function"
   ]
  },
  {
   "cell_type": "code",
   "execution_count": 17,
   "id": "c9dc4bf5-1585-4035-be3f-b92f35cc3337",
   "metadata": {},
   "outputs": [],
   "source": [
    "### odd number in the range 1 to 28\n",
    "def test():\n",
    "    n=[]\n",
    "    for i in range(0,20):\n",
    "        if i%2 !=0:\n",
    "            n.append(i)\n",
    "    return n"
   ]
  },
  {
   "cell_type": "code",
   "execution_count": 19,
   "id": "d3b9bb69-74d6-4195-8b55-4b00134966b5",
   "metadata": {},
   "outputs": [
    {
     "data": {
      "text/plain": [
       "[1, 3, 5, 7, 9, 11, 13, 15, 17, 19]"
      ]
     },
     "execution_count": 19,
     "metadata": {},
     "output_type": "execute_result"
    }
   ],
   "source": [
    "test()"
   ]
  },
  {
   "cell_type": "markdown",
   "id": "847a8e03-db11-46e8-a30c-b3afead55f5e",
   "metadata": {},
   "source": [
    "### Q2 why *args and **kwargs is used in some functions? Create a function each for *args and **kwargs to demonstrate their uses?"
   ]
  },
  {
   "cell_type": "markdown",
   "id": "18ff07b8-eecb-44eb-9ca2-2057b70e1688",
   "metadata": {},
   "source": [
    " *args passes variable number of non-keyworded arguments and on which operation of the tuple can be performed. **kwargs passes variable number of keyword arguments dictionary to function on which operation of a dictionary can be performed"
   ]
  },
  {
   "cell_type": "code",
   "execution_count": 21,
   "id": "879da099-dd63-4fa8-8265-8a92e81f60f4",
   "metadata": {},
   "outputs": [],
   "source": [
    "## Using args \n",
    "def test2(*args,a):\n",
    "    return args,a"
   ]
  },
  {
   "cell_type": "code",
   "execution_count": 25,
   "id": "fed3822e-fa38-40e2-bbca-4d32063924e2",
   "metadata": {},
   "outputs": [
    {
     "data": {
      "text/plain": [
       "((1, 2, 3, 4, 5), 24)"
      ]
     },
     "execution_count": 25,
     "metadata": {},
     "output_type": "execute_result"
    }
   ],
   "source": [
    "test2(1,2,3,4,5,a=24)"
   ]
  },
  {
   "cell_type": "code",
   "execution_count": 43,
   "id": "13a56452-6ea3-4a8a-8549-cd30fc88eed5",
   "metadata": {},
   "outputs": [],
   "source": [
    "## we can do with iteration\n",
    "def test4(*args):\n",
    "    a=[]\n",
    "    for i in args:\n",
    "        if type(i)== list:\n",
    "            a.append(i)\n",
    "    return a\n",
    "            "
   ]
  },
  {
   "cell_type": "code",
   "execution_count": 45,
   "id": "e6dfc323-1370-4df9-b8fb-56314657c62a",
   "metadata": {},
   "outputs": [
    {
     "data": {
      "text/plain": [
       "[[4, 5, 6], [45, 54, 58]]"
      ]
     },
     "execution_count": 45,
     "metadata": {},
     "output_type": "execute_result"
    }
   ],
   "source": [
    "test4(1,2,[4,5,6],\"prakhar\",\"gupta\",(1,2,32),[45,54,58])"
   ]
  },
  {
   "cell_type": "code",
   "execution_count": 49,
   "id": "c113d46e-b906-4d50-80db-bf5b3abcb353",
   "metadata": {},
   "outputs": [],
   "source": [
    "### Using **kwargs \n",
    "def test5(**kwargs):\n",
    "    return kwargs"
   ]
  },
  {
   "cell_type": "code",
   "execution_count": 50,
   "id": "84e235a5-ffd5-46c8-949b-b6d5ac6ccf01",
   "metadata": {},
   "outputs": [
    {
     "data": {
      "text/plain": [
       "{'a': 25, 'b': 'prakhar gupta'}"
      ]
     },
     "execution_count": 50,
     "metadata": {},
     "output_type": "execute_result"
    }
   ],
   "source": [
    "test5(a=25,b=\"prakhar gupta\")"
   ]
  },
  {
   "cell_type": "markdown",
   "id": "3c1d627d-d5c3-40d7-a5d9-82e29d5776c4",
   "metadata": {},
   "source": [
    "### Q3 what is an iterator in python?name the method used to initialize the iterator object and the method used for iteration.use these method to print the first five elements of the given list[2,4,6,8,10,12,14,16,18,20]"
   ]
  },
  {
   "cell_type": "markdown",
   "id": "e8c77b36-c172-4d49-8a5a-0b7b75da1995",
   "metadata": {},
   "source": [
    "In python iterator is an object that allows you to iterate over collection of data such as list,tuples,dictionaries and sets. To initialize an iterator you can use iter() method in python.To iterate through element of an iterator object you can use the next() method."
   ]
  },
  {
   "cell_type": "markdown",
   "id": "0dd6dac5-281e-4553-bcc9-ca3a5e8a8573",
   "metadata": {},
   "source": [
    "lst=[2,4,6,8,10,12,14,16,18,20]\n",
    "a=iter(lst)\n",
    "for i in range(5):\n",
    "    b=next(a)\n",
    "    print(b)"
   ]
  },
  {
   "cell_type": "markdown",
   "id": "ab23dbfe-dccb-4502-85b4-086a679b381a",
   "metadata": {},
   "source": [
    "### Q4 what is generator function in python?why yield keyword is used?Give an example of a generator function?"
   ]
  },
  {
   "cell_type": "markdown",
   "id": "b96a5fa1-3455-4457-bc47-ec86e1095309",
   "metadata": {},
   "source": [
    "In Python, a generator is a function that returns an iterator that produces a sequence of values when iterated over. Generators are useful when we want to produce a large sequence of values, but we don't want to store all of them in memory at once.Yield keyword helps to do custom stateful iteration over a collection"
   ]
  },
  {
   "cell_type": "code",
   "execution_count": 6,
   "id": "642fc862-8eba-4314-81d0-c1362f05c73d",
   "metadata": {},
   "outputs": [],
   "source": [
    "### Example of genrator function fibonacci series \n",
    "def test_fib(n) :\n",
    "    a,b = 0,1\n",
    "    for i in range(n):\n",
    "        yield a \n",
    "        a,b = b ,a+b "
   ]
  },
  {
   "cell_type": "code",
   "execution_count": 7,
   "id": "bbe4cb82-cd85-4d0b-8b05-6e34c0f6c6d5",
   "metadata": {},
   "outputs": [
    {
     "name": "stdout",
     "output_type": "stream",
     "text": [
      "0\n",
      "1\n",
      "1\n",
      "2\n",
      "3\n",
      "5\n",
      "8\n",
      "13\n",
      "21\n",
      "34\n"
     ]
    }
   ],
   "source": [
    "for i in test_fib(10) : \n",
    "    print(i)"
   ]
  },
  {
   "cell_type": "markdown",
   "id": "492bcd85-27fb-48f8-9caa-4e96d33914a2",
   "metadata": {},
   "source": [
    "### Q5 create a generator function for prime number less than 1000.Use the next() method to printy the first 20 prime number"
   ]
  },
  {
   "cell_type": "code",
   "execution_count": null,
   "id": "9cd7514d-3b92-46ab-b3b8-f218d2804331",
   "metadata": {},
   "outputs": [],
   "source": [
    "def prime_generator():\n",
    "    primes=[2]\n",
    "    num=3\n",
    "    while num<1000:\n",
    "        is_prime=True\n",
    "        for prime in primes:\n",
    "            if num%prime==0:\n",
    "                is_prime=False\n",
    "                break\n",
    "        if is_prime:\n",
    "            primes.append(num)\n",
    "            yield num\n",
    "        num +=2\n",
    "        pg=prime_generator()\n",
    "        \n"
   ]
  },
  {
   "cell_type": "code",
   "execution_count": null,
   "id": "82681312-fc87-4fbb-a3dc-32aa391479a0",
   "metadata": {},
   "outputs": [],
   "source": [
    "for i in range(20):\n",
    "    print(next(pg))"
   ]
  },
  {
   "cell_type": "code",
   "execution_count": null,
   "id": "d8613cb7-70c2-40a0-8769-b02938012d77",
   "metadata": {},
   "outputs": [],
   "source": []
  }
 ],
 "metadata": {
  "kernelspec": {
   "display_name": "Python 3 (ipykernel)",
   "language": "python",
   "name": "python3"
  },
  "language_info": {
   "codemirror_mode": {
    "name": "ipython",
    "version": 3
   },
   "file_extension": ".py",
   "mimetype": "text/x-python",
   "name": "python",
   "nbconvert_exporter": "python",
   "pygments_lexer": "ipython3",
   "version": "3.10.8"
  }
 },
 "nbformat": 4,
 "nbformat_minor": 5
}

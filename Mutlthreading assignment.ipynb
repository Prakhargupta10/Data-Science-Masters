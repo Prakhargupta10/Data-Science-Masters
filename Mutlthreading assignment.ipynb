{
 "cells": [
  {
   "cell_type": "markdown",
   "id": "12c2f779-b36d-4f13-88ac-96e05907d309",
   "metadata": {},
   "source": [
    "### Q1. what is multithreading in python? hy is it used? Name the module used to handle threads in python"
   ]
  },
  {
   "cell_type": "markdown",
   "id": "ecf838f8-132b-4f5d-a16e-7a875ca87718",
   "metadata": {},
   "source": [
    "The threading module is a high-level implementation of multithreading used to deploy an application in Python. To use multithreading, we need to import the threading module in Python Program. A start() method is used to initiate the activity of a thread.\n"
   ]
  },
  {
   "cell_type": "markdown",
   "id": "4c016751-415d-42ac-ba27-20b894110598",
   "metadata": {},
   "source": [
    "### Q2. why threading module used? write the use of the following functions\n",
    "### 1. Active count()\n",
    "### 2. current thread()\n",
    "### 3. enumerate()"
   ]
  },
  {
   "cell_type": "markdown",
   "id": "45972b4b-ce0b-421c-ab57-b20a781353fb",
   "metadata": {},
   "source": [
    "Python threading allows you to have different parts of your program run concurrently and can simplify your design. If you've got some experience in Python and want to speed up your program using threads, then this tutorial is for you"
   ]
  },
  {
   "cell_type": "markdown",
   "id": "bf90e2dd-16a6-47d0-bdd0-b99e9c1ccd91",
   "metadata": {},
   "source": [
    "1. Active count():-threading.activeCount() − Returns the number of thread objects that are active"
   ]
  },
  {
   "cell_type": "markdown",
   "id": "21f49643-1dd0-49ac-b571-0a059f5b5a97",
   "metadata": {},
   "source": [
    " 2. Cureent thread():-threading.currentThread() − Returns the number of thread objects in the caller's thread control."
   ]
  },
  {
   "cell_type": "markdown",
   "id": "efaac872-bae6-407b-bb3a-7f6a1a859c8d",
   "metadata": {},
   "source": [
    "3. enumerate():-threading.enumerate() − Returns a list of all thread objects that are currently active"
   ]
  },
  {
   "cell_type": "markdown",
   "id": "28b73a88-7a17-483e-80f1-8b6e75d32ca6",
   "metadata": {},
   "source": [
    "### Explain the following functions\n",
    "#### 1.start()\n",
    "#### 2.run()\n",
    "#### 3.join()\n",
    "#### 4.isalive()"
   ]
  },
  {
   "cell_type": "markdown",
   "id": "36defc44-6bf6-4a3e-867f-93752e16e07e",
   "metadata": {},
   "source": [
    "1.start():-The start() method can be called once for each thread object; otherwise, it throws an exception error."
   ]
  },
  {
   "cell_type": "markdown",
   "id": "80069e0e-58f1-4df5-bc8a-6e871dba4f44",
   "metadata": {},
   "source": [
    "2.run():-run() method is an inbuilt method of the Thread class of the threading module , it is used to represent a thread's activity. It calls the method expressed as the target argument in the Thread object along with the positional and keyword arguments taken from the args and kwargs arguments, respectively"
   ]
  },
  {
   "cell_type": "markdown",
   "id": "e0aa9188-415c-4859-bbfa-93444ca61aff",
   "metadata": {},
   "source": [
    "3. join():-A thread can be joined in Python by calling the Thread. join() method. This has the effect of blocking the current thread until the target thread that has been joined has terminated"
   ]
  },
  {
   "cell_type": "markdown",
   "id": "22290c63-661a-40be-acf4-19be31b63d9a",
   "metadata": {},
   "source": [
    "4.isalive():- isalive() method is an inbuilt method of the Thread class of the threading module, it is used to check whether that thread is alive or not, ie, it is still running or not"
   ]
  },
  {
   "cell_type": "markdown",
   "id": "c2e154c3-eb79-4a17-8816-857332b70d93",
   "metadata": {},
   "source": [
    "### Q4. write a python program to create two threads. Thread one must print the list of squares and thread two must print the list of cubes"
   ]
  },
  {
   "cell_type": "code",
   "execution_count": 1,
   "id": "4abc08e4-1d7b-44ed-aa02-ab36f5b1a36d",
   "metadata": {},
   "outputs": [
    {
     "name": "stdout",
     "output_type": "stream",
     "text": [
      "Square of 1 = 1\n",
      "Square of 2 = 4\n",
      "Square of 3 = 9\n",
      "Square of 4 = 16\n",
      "Square of 5 = 25\n",
      "Square of 6 = 36\n",
      "Square of 7 = 49\n",
      "Square of 8 = 64\n",
      "Square of 9 = 81\n",
      "Square of 10 = 100\n",
      "Cube of 1 = 1\n",
      "Cube of 2 = 8\n",
      "Cube of 3 = 27\n",
      "Cube of 4 = 64\n",
      "Cube of 5 = 125\n",
      "Cube of 6 = 216\n",
      "Cube of 7 = 343\n",
      "Cube of 8 = 512\n",
      "Cube of 9 = 729\n",
      "Cube of 10 = 1000\n"
     ]
    }
   ],
   "source": [
    "import threading\n",
    "\n",
    "def print_squares():\n",
    "    for i in range(1, 11):\n",
    "        print(f\"Square of {i} = {i**2}\")\n",
    "\n",
    "def print_cubes():\n",
    "    for i in range(1, 11):\n",
    "        print(f\"Cube of {i} = {i**3}\")\n",
    "\n",
    "prakhar = threading.Thread(target=print_squares)\n",
    "prakhar1 = threading.Thread(target=print_cubes)\n",
    "\n",
    "prakhar.start()\n",
    "prakhar1.start()\n",
    "\n",
    "\n",
    "prakhar.join()\n",
    "prakhar1.join()"
   ]
  },
  {
   "cell_type": "markdown",
   "id": "ccbfa57b-7047-4580-8757-1708a6172bee",
   "metadata": {},
   "source": [
    "### Q5.State advantages and disadvantages of multithreading"
   ]
  },
  {
   "cell_type": "markdown",
   "id": "764b7813-6eca-4428-a81b-1ccf6ff73dcb",
   "metadata": {},
   "source": [
    "Advantage of multithreading\n",
    "1. Enhanced performance by decreased development time\n",
    "2. Simplified and streamlined program coding\n",
    "3. Improvised GUI responsiveness\n",
    "4. Simultaneous and parallelized occurrence of tasks\n",
    "5. Better use of cache storage by utilization of resources\n",
    "6. Decreased cost of maintenance\n",
    "7. Better use of CPU resource"
   ]
  },
  {
   "cell_type": "markdown",
   "id": "05d14315-1816-4fa6-a8f0-130d0d36a806",
   "metadata": {},
   "source": [
    "Disadvantage of multithreading\n",
    "1. Complex debugging and testing processes\n",
    "2. Overhead switching of context\n",
    "3. Increased potential for deadlock occurrence\n",
    "4. Increased difficulty level in writing a program\n",
    "5. Unpredictable results"
   ]
  },
  {
   "cell_type": "markdown",
   "id": "1bde8ffd-f55a-48f0-a4bf-1a6a6000bc4a",
   "metadata": {},
   "source": [
    "### Q6.Explain deadlocks and race conditions."
   ]
  },
  {
   "cell_type": "markdown",
   "id": "c3dacba2-5c24-488d-bcfc-dcdb0c0dcd54",
   "metadata": {},
   "source": [
    "A race condition occurs when two threads use the same variable at a given time. Deadlock exists when two threads seek one lock simultaneously. This situation will stop both threads from processing or executing the functions"
   ]
  }
 ],
 "metadata": {
  "kernelspec": {
   "display_name": "Python 3 (ipykernel)",
   "language": "python",
   "name": "python3"
  },
  "language_info": {
   "codemirror_mode": {
    "name": "ipython",
    "version": 3
   },
   "file_extension": ".py",
   "mimetype": "text/x-python",
   "name": "python",
   "nbconvert_exporter": "python",
   "pygments_lexer": "ipython3",
   "version": "3.10.8"
  }
 },
 "nbformat": 4,
 "nbformat_minor": 5
}

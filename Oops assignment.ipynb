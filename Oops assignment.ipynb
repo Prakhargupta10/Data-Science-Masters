{
 "cells": [
  {
   "cell_type": "markdown",
   "id": "c6b941cd-0941-44ad-9356-89a8f01fa065",
   "metadata": {},
   "source": [
    "### Q1 Explain class and object with respect to the object oriented programming.Give a suitable example?"
   ]
  },
  {
   "cell_type": "markdown",
   "id": "b1dbab08-0624-4033-8336-0d64c7156762",
   "metadata": {},
   "source": [
    "A class is considered as a blueprint of objects. We can think of the class as a sketch (prototype) of a house. It contains all the details about the floors, doors, windows, etc. Based on these descriptions we build the house. House is the object.\n",
    "Since many houses can be made from the same description, we can create many objects from a class."
   ]
  },
  {
   "cell_type": "markdown",
   "id": "5462ceef-67c9-4fd1-bf12-5f009df3e525",
   "metadata": {},
   "source": [
    "An object is called an instance of a class.\n",
    "Here's the syntax to create an object.\n",
    "\n",
    "objectName = ClassName()"
   ]
  },
  {
   "cell_type": "code",
   "execution_count": 9,
   "id": "a9d2ddc5-7be6-44f1-b308-2c25622feae2",
   "metadata": {},
   "outputs": [],
   "source": [
    "### Example of class and object\n",
    "class prakhar2(): ### We use the class keyword to create a class\n",
    "    def __init__(self,name,phone_number,email_id):\n",
    "        self.name=name\n",
    "        self.phone_number=phone_number\n",
    "        self.email_id=email_id\n",
    "    def return_personal_detail(self):\n",
    "        return self.name,self.phone_number,self.email_id"
   ]
  },
  {
   "cell_type": "code",
   "execution_count": 10,
   "id": "54cc54c0-0979-4251-98b3-f0eeae8acd62",
   "metadata": {},
   "outputs": [],
   "source": [
    "prakhar=prakhar2(\"prakhar.gupta\",9140429681,\"prakhargupta9140@gmail.com\")"
   ]
  },
  {
   "cell_type": "code",
   "execution_count": 11,
   "id": "f9e5deeb-f5e1-4936-b4ac-1ed4eb64782b",
   "metadata": {},
   "outputs": [
    {
     "data": {
      "text/plain": [
       "9140429681"
      ]
     },
     "execution_count": 11,
     "metadata": {},
     "output_type": "execute_result"
    }
   ],
   "source": [
    "prakhar.phone_number ### Here we can call only single detail"
   ]
  },
  {
   "cell_type": "code",
   "execution_count": 12,
   "id": "e60e7c91-ca3f-4aec-bd8d-52fcb9ffae8f",
   "metadata": {},
   "outputs": [
    {
     "data": {
      "text/plain": [
       "('prakhar.gupta', 9140429681, 'prakhargupta9140@gmail.com')"
      ]
     },
     "execution_count": 12,
     "metadata": {},
     "output_type": "execute_result"
    }
   ],
   "source": [
    "prakhar.return_personal_detail() ### Here we call all the detail"
   ]
  },
  {
   "cell_type": "markdown",
   "id": "28c1069d-7c41-4387-8d62-315723af35a5",
   "metadata": {},
   "source": [
    "### Q2. Name the four pillar of oops?"
   ]
  },
  {
   "cell_type": "markdown",
   "id": "4d09f0bf-914d-4cec-a236-9e02f72d4ff6",
   "metadata": {},
   "source": [
    "The four pillar of oops are:-\n",
    "1- Encapsulation \n",
    "2- Inheritance\n",
    "3- Polymorphism\n",
    "4- Abstraction"
   ]
  },
  {
   "cell_type": "markdown",
   "id": "ca21fb96-f999-4ab0-92d0-a02ee4023434",
   "metadata": {},
   "source": [
    "### Q3. Explain why the __init__ () is used ?Give a ssuitable example"
   ]
  },
  {
   "cell_type": "markdown",
   "id": "f2785592-37ca-4b5e-98ea-0dda4f045247",
   "metadata": {},
   "source": [
    " __init__ is a special python method that runs whenever a new object is created. These types of functions are used to initialize the attributes of that class, E.g., if the class is Person, then the attributes will be name, age, etc."
   ]
  },
  {
   "cell_type": "code",
   "execution_count": 13,
   "id": "f22e5063-da95-4054-837f-e1db90e31291",
   "metadata": {},
   "outputs": [
    {
     "name": "stdout",
     "output_type": "stream",
     "text": [
      "From: London\n",
      "To_city: India\n"
     ]
    }
   ],
   "source": [
    "class Trip:\n",
    "    def __init__(self, to_city, from_city):\n",
    "        self.to_city = to_city\n",
    "        self.from_city = from_city\n",
    " \n",
    "    def holiday(self):\n",
    "     return (\"From: \" + self.from_city + \"\\nTo_city: \" + self.to_city)\n",
    " \n",
    "T = Trip('India', 'London')\n",
    "print(T.holiday())"
   ]
  },
  {
   "cell_type": "markdown",
   "id": "e15e0626-d5d7-4ef1-b10b-dd2a933fa567",
   "metadata": {},
   "source": [
    "### Q4. Why self is used in oops?"
   ]
  },
  {
   "cell_type": "markdown",
   "id": "68094df3-3ed8-4176-9df0-dbd09bece851",
   "metadata": {},
   "source": [
    "The self variable is used to represent the instance of the class which is often used in object-oriented programming. It works as a reference to the object. Python uses the self parameter to refer to instance attributes and methods of the class"
   ]
  },
  {
   "cell_type": "markdown",
   "id": "a09d4412-6d8a-4344-8804-ca1b207143fd",
   "metadata": {},
   "source": [
    "### Q5. What is inheritance?give an example of inheritance?"
   ]
  },
  {
   "cell_type": "markdown",
   "id": "b74f95dd-c4f6-4667-8bb2-6f4dae1af357",
   "metadata": {},
   "source": [
    "Inheritance allows us to define a class that inherits all the methods and properties from another class. Parent class is the class being inherited from, also called base class. Child class is the class that inherits from another class, also called derived class."
   ]
  },
  {
   "cell_type": "code",
   "execution_count": 1,
   "id": "d718eed1-1ae6-4a4a-990b-e13f518d838a",
   "metadata": {},
   "outputs": [],
   "source": [
    "### Example of inheritance\n",
    "class prakhar:\n",
    "    def test_class1(self):\n",
    "        print(\"This my first class\")"
   ]
  },
  {
   "cell_type": "code",
   "execution_count": 2,
   "id": "6c613842-2848-4e70-837c-56ad1ba54202",
   "metadata": {},
   "outputs": [],
   "source": [
    "class prakhar1(prakhar):\n",
    "    def test_class2(self):\n",
    "        print(\"This is my second class\")\n",
    "    "
   ]
  },
  {
   "cell_type": "code",
   "execution_count": 3,
   "id": "b410d9ca-cab9-4c9a-a2bf-4f518e2cce80",
   "metadata": {},
   "outputs": [],
   "source": [
    "class prakhar2(prakhar1):\n",
    "    def test_class3(self):\n",
    "        print(\"This is my third class\")"
   ]
  },
  {
   "cell_type": "code",
   "execution_count": 4,
   "id": "29cbf90c-f3e9-4158-82ec-1a3edc965dc7",
   "metadata": {},
   "outputs": [],
   "source": [
    "obj_prakhar=prakhar2()"
   ]
  },
  {
   "cell_type": "code",
   "execution_count": 8,
   "id": "3fc757ab-714c-4865-9f6a-418aeaa2d330",
   "metadata": {},
   "outputs": [
    {
     "name": "stdout",
     "output_type": "stream",
     "text": [
      "This my first class\n"
     ]
    }
   ],
   "source": [
    "obj_prakhar.test_class1()"
   ]
  },
  {
   "cell_type": "code",
   "execution_count": 10,
   "id": "4c839e0e-4d08-41d3-9331-4dc95a3c7ba0",
   "metadata": {},
   "outputs": [
    {
     "name": "stdout",
     "output_type": "stream",
     "text": [
      "This is my second class\n"
     ]
    }
   ],
   "source": [
    "obj_prakhar.test_class2()"
   ]
  },
  {
   "cell_type": "code",
   "execution_count": 12,
   "id": "720bcf43-68ee-4e1b-9d51-d2b8a3f2bbff",
   "metadata": {},
   "outputs": [
    {
     "name": "stdout",
     "output_type": "stream",
     "text": [
      "This is my third class\n"
     ]
    }
   ],
   "source": [
    "obj_prakhar.test_class3()"
   ]
  }
 ],
 "metadata": {
  "kernelspec": {
   "display_name": "Python 3 (ipykernel)",
   "language": "python",
   "name": "python3"
  },
  "language_info": {
   "codemirror_mode": {
    "name": "ipython",
    "version": 3
   },
   "file_extension": ".py",
   "mimetype": "text/x-python",
   "name": "python",
   "nbconvert_exporter": "python",
   "pygments_lexer": "ipython3",
   "version": "3.10.8"
  }
 },
 "nbformat": 4,
 "nbformat_minor": 5
}

{
 "cells": [
  {
   "cell_type": "markdown",
   "id": "c2efbe15-231a-4cd3-bd59-418de78ffaca",
   "metadata": {},
   "source": [
    "### Q1. Explain why we have to use the Exception class while creating a Custom Exception.\n"
   ]
  },
  {
   "cell_type": "markdown",
   "id": "3b1f397c-49d3-4f01-a0d0-fa5a8614de75",
   "metadata": {},
   "source": [
    "Custom exceptions provide you the flexibility to add attributes and methods that are not part of a standard Java exception. These can store additional information, like an application-specific error code, or provide utility methods that can be used to handle or present the exception to a user"
   ]
  },
  {
   "cell_type": "markdown",
   "id": "cb8a78df-ebe1-4b82-ae90-ec80beeca455",
   "metadata": {},
   "source": [
    "### Q2. Write a python program to print Python Exception Hierarchy."
   ]
  },
  {
   "cell_type": "code",
   "execution_count": null,
   "id": "ce741beb-dfe6-40b8-a173-754555f369cd",
   "metadata": {},
   "outputs": [],
   "source": [
    "import sys\n",
    "\n",
    "def print_exception_hierarchy():\n",
    "    exceptions = []\n",
    "    \n",
    "    # Traverse the exception hierarchy and store the exception classes\n",
    "    current_exception = BaseException\n",
    "    while current_exception is not object:\n",
    "        exceptions.append(current_exception)\n",
    "        current_exception = current_exception.__base__\n",
    "    \n",
    "    # Reverse the list to print from top to bottom of the hierarchy\n",
    "    exceptions.reverse()\n",
    "    \n",
    "    # Print the exception hierarchy\n",
    "    for exception in exceptions:\n",
    "        print(exception.__name__)\n",
    "        \n",
    "\n",
    "# Call the function to print the exception hierarchy\n",
    "print_exception_hierarchy()"
   ]
  },
  {
   "cell_type": "markdown",
   "id": "60e1c498-1290-43db-b418-854d588e41b7",
   "metadata": {},
   "source": [
    "### Q3. What errors are defined in the ArithmeticError class? Explain any two with an example"
   ]
  },
  {
   "cell_type": "markdown",
   "id": "5ccbf7b6-0bb5-4078-bb8c-67e3f5c9cb71",
   "metadata": {},
   "source": [
    "The arithmetic error occurs when an error is encountered during numeric calculations in Python. This includes Zerodivision Error and Floating point error. In addition, zero division error is raised when you divide a numeric value by zero. When we run this code, we will get a ZeroDivision error"
   ]
  },
  {
   "cell_type": "code",
   "execution_count": 3,
   "id": "acb47f1a-7aa5-456a-a31b-20c0f3068046",
   "metadata": {},
   "outputs": [
    {
     "name": "stdout",
     "output_type": "stream",
     "text": [
      "division by zero\n"
     ]
    }
   ],
   "source": [
    "### zeero dividon error\n",
    "try:\n",
    "    a=10\n",
    "    a=10/0\n",
    "except ZeroDivisionError as e:\n",
    "    print(e)"
   ]
  },
  {
   "cell_type": "code",
   "execution_count": 7,
   "id": "2a0e7e0f-09f6-493e-9230-70b40f0b4300",
   "metadata": {},
   "outputs": [],
   "source": [
    "### floating point error\n",
    "try:\n",
    "    a=10\n",
    "    a=10/3.5\n",
    "except FloatingPointError as e:\n",
    "    print(e)"
   ]
  },
  {
   "cell_type": "markdown",
   "id": "4f6c4df4-f7a5-4841-9859-829c3d662dd3",
   "metadata": {},
   "source": [
    "### Q4. Why LookupError class is used? Explain with an example KeyError and IndexError.\n"
   ]
  },
  {
   "cell_type": "markdown",
   "id": "a9b13366-04f7-42fb-a056-cf9c2d8dfc64",
   "metadata": {},
   "source": [
    "LookupError Exception is the Base class for errors raised when something can't be found. The base class for the exceptions that are raised when a key or index used on a mapping or sequence is invalid: IndexError, KeyError. An IndexError is raised when a sequence reference is out of range"
   ]
  },
  {
   "cell_type": "code",
   "execution_count": 9,
   "id": "8437e6f4-68a9-42ac-97f8-a9f9823607db",
   "metadata": {},
   "outputs": [
    {
     "name": "stdout",
     "output_type": "stream",
     "text": [
      "'key2'\n"
     ]
    }
   ],
   "source": [
    "### Example of key error\n",
    "try:\n",
    "    details={\"name\":\"prakhar\",\"key\":\"gupta\"}\n",
    "    details[\"key2\"]\n",
    "except KeyError as e:\n",
    "    print(e)\n",
    "             "
   ]
  },
  {
   "cell_type": "code",
   "execution_count": 10,
   "id": "3605f44e-508e-4637-bf0c-b854860bed8c",
   "metadata": {},
   "outputs": [
    {
     "name": "stdout",
     "output_type": "stream",
     "text": [
      "list index out of range\n"
     ]
    }
   ],
   "source": [
    "### Example of index error\n",
    "try:\n",
    "    age=[24,25,29,54,69]\n",
    "    age[10]\n",
    "except IndexError as e:\n",
    "    print(e)"
   ]
  },
  {
   "cell_type": "markdown",
   "id": "89f6044d-857d-49df-8dec-ff2d87188279",
   "metadata": {},
   "source": [
    "### Q5. Explain ImportError. What is ModuleNotFoundError?\n"
   ]
  },
  {
   "cell_type": "markdown",
   "id": "c1ef9cc8-a400-463a-aa25-fa5f6bd6649e",
   "metadata": {},
   "source": [
    "In Python, ImportError occurs when the Python program tries to import module which does not exist in the private table. This exception can be avoided using exception handling using try and except blocks.As the name implies, this error occurs when you're trying to access or use a module that cannot be found"
   ]
  },
  {
   "cell_type": "code",
   "execution_count": 11,
   "id": "1fcf58df-8ea5-4dd7-bba3-d2b79b10beee",
   "metadata": {},
   "outputs": [
    {
     "name": "stdout",
     "output_type": "stream",
     "text": [
      "No module named 'prakhar'\n"
     ]
    }
   ],
   "source": [
    "### Example of imort error\n",
    "try :\n",
    "    import prakhar\n",
    "except ImportError as e : \n",
    "    print(e)"
   ]
  },
  {
   "cell_type": "markdown",
   "id": "0b815fff-5ada-49af-9fc9-406b924aee31",
   "metadata": {},
   "source": [
    "### Q6. List down some best practices for exception handling in python"
   ]
  },
  {
   "cell_type": "markdown",
   "id": "9e911962-449d-4797-9a50-3ffc5f7acd35",
   "metadata": {},
   "source": [
    "1. Use Exceptions for Exceptional Case\n",
    "2. Don’t Swallow the Exception\n",
    "3. Catch Specific Exceptions\n",
    "4. Always Clean Up Resources in a Finally Block\n",
    "5. Avoid Raising Generic Exceptions\n",
    "6. Raise Custom Exceptions\n",
    "7. Define Your Own Exception Hierarchy\n",
    "8. Document All Exceptions Thrown by a Function\n",
    "9. Provide Contextual Information When Raising an Exception\n",
    "10. Write Tests to Ensure That Exceptions Are Raised Correctly\n"
   ]
  },
  {
   "cell_type": "code",
   "execution_count": null,
   "id": "4ded2100-57d6-48fc-97d0-0d830b7c7d64",
   "metadata": {},
   "outputs": [],
   "source": []
  }
 ],
 "metadata": {
  "kernelspec": {
   "display_name": "Python 3 (ipykernel)",
   "language": "python",
   "name": "python3"
  },
  "language_info": {
   "codemirror_mode": {
    "name": "ipython",
    "version": 3
   },
   "file_extension": ".py",
   "mimetype": "text/x-python",
   "name": "python",
   "nbconvert_exporter": "python",
   "pygments_lexer": "ipython3",
   "version": "3.10.8"
  }
 },
 "nbformat": 4,
 "nbformat_minor": 5
}

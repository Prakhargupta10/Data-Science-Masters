{
 "cells": [
  {
   "cell_type": "markdown",
   "id": "e67d182b-118a-498d-9ac3-ce7e5ba2a0dc",
   "metadata": {},
   "source": [
    "### Q1. Which function is used to open a file? What are the different modes of opening a file? Explain each mode of file opening.\n"
   ]
  },
  {
   "cell_type": "markdown",
   "id": "ca0c448e-2810-4dfa-9648-0a8570f2c5fa",
   "metadata": {},
   "source": [
    "In Python, we use the open() method to open files.\n",
    "Different modes of opening a file:-\n",
    "Mode\tDescription\n",
    "r\tOpen a file for reading. (default)\n",
    "w\tOpen a file for writing. Creates a new file if it does not exist or truncates the file if it exists.\n",
    "x\tOpen a file for exclusive creation. If the file already exists, the operation fails.\n",
    "a\tOpen a file for appending at the end of the file without truncating it. Creates a new file if it does not exist.\n",
    "t\tOpen in text mode. (default)\n",
    "b\tOpen in binary mode.\n",
    "+\tOpen a file for updating (reading and writing)\n"
   ]
  },
  {
   "cell_type": "markdown",
   "id": "0129170f-da5b-47f2-8d03-57572bb2d723",
   "metadata": {},
   "source": [
    "### Q2. Why close() function is used? Why is it important to close a file?\n"
   ]
  },
  {
   "cell_type": "markdown",
   "id": "f0a1cf76-4748-4d8f-a1dc-7603d2da71a6",
   "metadata": {},
   "source": [
    "The close() method closes an open file. You should always close your files, in some cases, due to buffering, changes made to a file may not show until you close the file."
   ]
  },
  {
   "cell_type": "markdown",
   "id": "0124c2ad-919a-4a43-9811-40ba507d470f",
   "metadata": {},
   "source": [
    "### Q3. Write a python program to create a text file. Write ‘I want to become a Data Scientist’ in that file. Then close the file. Open this file and read the content of the file. "
   ]
  },
  {
   "cell_type": "code",
   "execution_count": 2,
   "id": "2514aca4-6b31-4bfc-8815-503b7c7b89c2",
   "metadata": {},
   "outputs": [],
   "source": [
    "f=open(\"prakhar1.txt\",'a')"
   ]
  },
  {
   "cell_type": "code",
   "execution_count": 3,
   "id": "b05eaddc-3338-436b-9586-c6f24013ac5d",
   "metadata": {},
   "outputs": [
    {
     "data": {
      "text/plain": [
       "33"
      ]
     },
     "execution_count": 3,
     "metadata": {},
     "output_type": "execute_result"
    }
   ],
   "source": [
    "f.write(\"I want to become a Data scientist\")"
   ]
  },
  {
   "cell_type": "code",
   "execution_count": 4,
   "id": "62b4dd23-f639-415a-9956-213dcb988e84",
   "metadata": {},
   "outputs": [],
   "source": [
    "f.close()"
   ]
  },
  {
   "cell_type": "code",
   "execution_count": 5,
   "id": "7ac6ecd8-7fe7-409a-a2d3-6d914e24c6d6",
   "metadata": {},
   "outputs": [],
   "source": [
    "data=open(\"prakhar1.txt\",'r')"
   ]
  },
  {
   "cell_type": "markdown",
   "id": "39f55e7a-f7e2-4ccb-90fc-fdad756e87b0",
   "metadata": {},
   "source": [
    "### Q4. Explain the following with python code: read(), readline() and readlines().\n"
   ]
  },
  {
   "cell_type": "markdown",
   "id": "dc3d568e-0e26-4a3a-ba6c-636cc7fb6a59",
   "metadata": {},
   "source": [
    "Read ( ): Returns the read bytes in the form of a string. Reads n bytes; if n is not specified, then reads the entire file. \n",
    "Readline ( ): Reads a line of the file and returns in the form of a string. For specified n, reads at most n bytes.\n",
    "readlines() method will return all the lines in a file in the format of a list where each element is a line in the file.\n"
   ]
  },
  {
   "cell_type": "markdown",
   "id": "dc7e8af4-284a-43de-b090-3e36a41a751e",
   "metadata": {},
   "source": [
    "### Q5. Explain why with statement is used with open(). What is the advantage of using with statement and open() together?\n"
   ]
  },
  {
   "cell_type": "markdown",
   "id": "b1903e0e-36c0-4460-a311-75251bb277fb",
   "metadata": {},
   "source": [
    "The with statement works with the open() function to open a file. Unlike open() where you have to close the file with the close() method, the with statement closes the file for you without you telling it to"
   ]
  },
  {
   "cell_type": "markdown",
   "id": "a87f8ad5-7313-4cd3-8e76-e93e527376c5",
   "metadata": {},
   "source": [
    "Advantage of open():-\n",
    "More importantly, it ensures closing resources right after processing them. A common example of using the with statement is reading or writing to a file. A function or class that supports the with statement is known as a context manager. A context manager allows you to open and close resources right when you want to"
   ]
  },
  {
   "cell_type": "markdown",
   "id": "0e2b3769-4b9f-4746-8cba-9e38878ecbdd",
   "metadata": {},
   "source": [
    "### Q6. Explain the write() and writelines() functions. Give a suitable example."
   ]
  },
  {
   "cell_type": "markdown",
   "id": "1fcdf367-a5db-4664-b62a-49a423c5a5cb",
   "metadata": {},
   "source": [
    "The write() function will write the content in the file without adding any extra characters."
   ]
  },
  {
   "cell_type": "code",
   "execution_count": 8,
   "id": "87c3fd3d-0533-4108-8325-bbe8201c5cfb",
   "metadata": {},
   "outputs": [
    {
     "data": {
      "text/plain": [
       "18"
      ]
     },
     "execution_count": 8,
     "metadata": {},
     "output_type": "execute_result"
    }
   ],
   "source": [
    "### example of write\n",
    "file = open(\"prakhar2.txt\",'w')\n",
    "file.write(\"This my write code\")"
   ]
  },
  {
   "cell_type": "markdown",
   "id": "2d4989ae-ec00-46cc-9afc-5607c723c28b",
   "metadata": {},
   "source": [
    "The writelines() function writes the content of a list to a file."
   ]
  },
  {
   "cell_type": "code",
   "execution_count": 10,
   "id": "a3190168-665e-4f4f-8762-7e0880162f0c",
   "metadata": {},
   "outputs": [],
   "source": [
    "### example of writeline\n",
    "file=open(\"prakhar3.txt\",'w')\n",
    "file.writelines(\"This my writelines sample code\")"
   ]
  }
 ],
 "metadata": {
  "kernelspec": {
   "display_name": "Python 3 (ipykernel)",
   "language": "python",
   "name": "python3"
  },
  "language_info": {
   "codemirror_mode": {
    "name": "ipython",
    "version": 3
   },
   "file_extension": ".py",
   "mimetype": "text/x-python",
   "name": "python",
   "nbconvert_exporter": "python",
   "pygments_lexer": "ipython3",
   "version": "3.10.8"
  }
 },
 "nbformat": 4,
 "nbformat_minor": 5
}

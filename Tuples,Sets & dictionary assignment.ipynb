{
 "cells": [
  {
   "cell_type": "markdown",
   "id": "0dc319c5-5eea-4568-9f4a-176a9643019a",
   "metadata": {},
   "source": [
    "### Q1.what are the charcteristic of the tuples?is tuple immutable?"
   ]
  },
  {
   "cell_type": "markdown",
   "id": "3a54291a-4cc1-4fec-b0a0-ce81fdf01c24",
   "metadata": {},
   "source": [
    "                 Answer\n",
    "1-Tuples are ordered,index collection of data.\n",
    "2-Tuples are immutable.\n",
    "3-Tuple can store duplicate value.\n",
    "4-Tuple can store value with multiple data types.\n",
    "\n",
    "yes is tuple is immutable because once we create a tuple we cannot make changes to it.\n"
   ]
  },
  {
   "cell_type": "markdown",
   "id": "1c56a4e7-664a-46c3-991a-925ce49b5e3e",
   "metadata": {},
   "source": [
    "### Q2.What are the two tuple methods in python?Give an example of each method.Give a reason why tuples have only two in-built methods as compared to lists?"
   ]
  },
  {
   "cell_type": "markdown",
   "id": "a7fd0635-1e36-48dd-9aeb-6bb260c3da40",
   "metadata": {},
   "source": [
    "Two methods tuple methods in python are:- 1- index() 2- count()"
   ]
  },
  {
   "cell_type": "code",
   "execution_count": 2,
   "id": "921e8a51-f551-41bc-aca7-34bb47987b5d",
   "metadata": {},
   "outputs": [
    {
     "data": {
      "text/plain": [
       "2"
      ]
     },
     "execution_count": 2,
     "metadata": {},
     "output_type": "execute_result"
    }
   ],
   "source": [
    "##Example of count\n",
    "t1=(1,2,3,25.5,45+7j,\"prakhar\",True)\n",
    "t1.count(1) ## When we execute this it will count value of 1 and True"
   ]
  },
  {
   "cell_type": "code",
   "execution_count": 3,
   "id": "01fbf1af-02c0-4723-a7e6-db5caf19c5ab",
   "metadata": {},
   "outputs": [
    {
     "data": {
      "text/plain": [
       "0"
      ]
     },
     "execution_count": 3,
     "metadata": {},
     "output_type": "execute_result"
    }
   ],
   "source": [
    "## Example of index\n",
    "t1.index(True)## when we execute this True then it will give 0 index because value of True is 1 and 1 index is 0 that why it will give 0 output"
   ]
  },
  {
   "cell_type": "markdown",
   "id": "c1104757-0c7e-41bc-aae7-93e94d9890d0",
   "metadata": {},
   "source": [
    "In Python, tuples are immutables. In tuples you cannot change items of a tuple once it is assigned.That why there are only two tuple methods count() and index() that a tuple object can call.\n"
   ]
  },
  {
   "cell_type": "markdown",
   "id": "6dc1775f-7cb3-471a-88be-f8330bd9a75a",
   "metadata": {},
   "source": [
    "###  Q3 Which collection of datatypes in python do not allow duplicate items?write a code using a set to remove duplicate from the given lits?\n",
    "### list=[1,1,1,2,1,3,1,4,2,1,2,2,2,3,2,4,3,1,3,2,3,3,3,4,4,1,4,2,4,2,4,3,4,4]"
   ]
  },
  {
   "cell_type": "markdown",
   "id": "cb9eeed8-03cb-4f22-8f3d-5e49748961db",
   "metadata": {},
   "source": [
    "Set collection of datatypes in python do not allow duplicate items.\n"
   ]
  },
  {
   "cell_type": "code",
   "execution_count": 2,
   "id": "b93aaebd-1ee8-4065-8249-e3841d487551",
   "metadata": {},
   "outputs": [
    {
     "data": {
      "text/plain": [
       "{1, 2, 3, 4}"
      ]
     },
     "execution_count": 2,
     "metadata": {},
     "output_type": "execute_result"
    }
   ],
   "source": [
    "## code to remove duplicate\n",
    "list={1,1,1,2,1,3,1,4,2,1,2,2,2,3,2,4,3,1,3,2,3,3,3,4,4,1,4,2,4,2,4,3,4,4}\n",
    "list ## In set duplicate items automaticall"
   ]
  },
  {
   "cell_type": "markdown",
   "id": "a3dceaa0-ad90-423b-b63b-cf01ecaa73c3",
   "metadata": {},
   "source": [
    "### Q4 Explain the difference between the union() and update() methods for a set.Give an examples of each methods? "
   ]
  },
  {
   "cell_type": "markdown",
   "id": "c0db3af0-5b49-48d4-bee0-bfea5e2b750f",
   "metadata": {},
   "source": [
    "update() adds all missing elements to the set on which it is called whereas set. union() creates a new set. "
   ]
  },
  {
   "cell_type": "code",
   "execution_count": 3,
   "id": "79b8ba24-48a4-4a6f-8f7c-d86b93363e65",
   "metadata": {},
   "outputs": [
    {
     "data": {
      "text/plain": [
       "{1, 2, 3, 4, 5, 6, 7, 8, 9, 10}"
      ]
     },
     "execution_count": 3,
     "metadata": {},
     "output_type": "execute_result"
    }
   ],
   "source": [
    "###Example of update()\n",
    "s1={1,2,3,4,5,}\n",
    "s1.update({6,7,8,9,10}) ## It will update the value of set s1 and add the item in list.\n",
    "s1 "
   ]
  },
  {
   "cell_type": "code",
   "execution_count": 4,
   "id": "4c5afee3-6020-4fec-81ac-196468721dff",
   "metadata": {},
   "outputs": [
    {
     "data": {
      "text/plain": [
       "{1, 2, 3, 4, 5}"
      ]
     },
     "execution_count": 4,
     "metadata": {},
     "output_type": "execute_result"
    }
   ],
   "source": [
    "###Example of union()\n",
    "s2={1,2,3,4,5}\n",
    "s2.union({6,7,8,9,10}) ## It will not update the value of set s2\n",
    "s2"
   ]
  },
  {
   "cell_type": "markdown",
   "id": "914742ff-087d-4a3e-bfc3-a3746910d861",
   "metadata": {},
   "source": [
    "### Q5 What is dictionary?Give an example.Also,state whether a dictionary is ordered or unordered?"
   ]
  },
  {
   "cell_type": "markdown",
   "id": "cde4b179-e5f1-4342-81fc-0a339426f381",
   "metadata": {},
   "source": [
    "In Python, dictionaries are mutable data structures that allow you to store key-value pairs. Dictionary can be created using the dict() constructor or curly braces' {}'. Once you have created a dictionary, you can add, remove, or update elements using the methods dict."
   ]
  },
  {
   "cell_type": "code",
   "execution_count": 5,
   "id": "c81db08a-6184-49bf-bc73-713fb0b5d800",
   "metadata": {},
   "outputs": [
    {
     "data": {
      "text/plain": [
       "{'Name': 'prakahr Gupta', 'Email': 'prakharg940@gamil.com', 'Number': '23456'}"
      ]
     },
     "execution_count": 5,
     "metadata": {},
     "output_type": "execute_result"
    }
   ],
   "source": [
    "###Example of dictionary\n",
    "d1={\"Name\":\"prakahr Gupta\",\"Email\":\"prakharg940@gamil.com\",\"Number\":\"23456\"}\n",
    "d1"
   ]
  },
  {
   "cell_type": "markdown",
   "id": "7943ac90-789f-499a-b042-623cad3aa517",
   "metadata": {},
   "source": [
    "As of Python version 3.7, dictionaries are ordered. In Python 3.6 and earlier, dictionaries are unordered. When we say that dictionaries are ordered, it means that the items have a defined order, and that order will not change."
   ]
  },
  {
   "cell_type": "markdown",
   "id": "d4cb6f4a-3358-4c4f-9866-9756a20acf1b",
   "metadata": {},
   "source": [
    "### Q6 Can we create a nested dictionary?if,so please give an example by creating a simple one level nested dictionary?"
   ]
  },
  {
   "cell_type": "markdown",
   "id": "0bee2c0f-dbcd-4a25-aee6-3b464278577c",
   "metadata": {},
   "source": [
    "Yes we can create nested dictionary."
   ]
  },
  {
   "cell_type": "code",
   "execution_count": 6,
   "id": "a3b92a0e-7234-4a60-a01f-f01459209ddd",
   "metadata": {},
   "outputs": [
    {
     "data": {
      "text/plain": [
       "{'Bio': {'Name': 'prakhar gupta', 'Age': '22'},\n",
       " 'Qualification': {'Graduate': 'yes', 'Degree': 'Bachelors of commerce'}}"
      ]
     },
     "execution_count": 6,
     "metadata": {},
     "output_type": "execute_result"
    }
   ],
   "source": [
    "###Example of nested dictionary\n",
    "d2={\"Bio\":{\"Name\":\"prakhar gupta\",\"Age\":\"22\"},\"Qualification\":{\"Graduate\":\"yes\",\"Degree\":\"Bachelors of commerce\"}}\n",
    "d2"
   ]
  },
  {
   "cell_type": "markdown",
   "id": "9e58eaa2-63f6-4c73-84e5-715f284e62f1",
   "metadata": {},
   "source": [
    "### Q7 Using a default() method,create key named topics in the given dictionary and also add the value of the key as this list['python','Machine learning','Deep learning']\n",
    "\n",
    "### dict1={'language':python,'course':'Data science master'}"
   ]
  },
  {
   "cell_type": "code",
   "execution_count": 7,
   "id": "04dc7b8b-c7a5-40e9-b61b-582b87e18701",
   "metadata": {},
   "outputs": [
    {
     "data": {
      "text/plain": [
       "{'language': 'python',\n",
       " 'course': 'Data science master',\n",
       " 'Topics': ['Python', 'Machine learning', 'Deep learning']}"
      ]
     },
     "execution_count": 7,
     "metadata": {},
     "output_type": "execute_result"
    }
   ],
   "source": [
    "dict1={\"language\":\"python\",\"course\":\"Data science master\"}\n",
    "dict1.setdefault(\"Topics\",[\"Python\",\"Machine learning\",\"Deep learning\"])\n",
    "dict1"
   ]
  },
  {
   "cell_type": "markdown",
   "id": "b859a048-a517-4192-a54b-6db475edbe26",
   "metadata": {},
   "source": [
    "### Q8 What are the three view objects in dictionaries? Use the three in-built methods in python to display these three views objects for the given dictionary?\n",
    "### dict1={'sports':'cricket','Teams':['India','Australia','England','South Africa','Srilanka','New Zealand']}\n"
   ]
  },
  {
   "cell_type": "markdown",
   "id": "219d3e88-aaa7-4881-8e10-adba62a4c1ed",
   "metadata": {},
   "source": [
    "The three view objects in dictionaries are:-\n",
    "1- Keys\n",
    "2- Values\n",
    "3- Items"
   ]
  },
  {
   "cell_type": "code",
   "execution_count": 9,
   "id": "2308e91f-6c22-4b95-bb22-11cdce1ac7e4",
   "metadata": {},
   "outputs": [
    {
     "data": {
      "text/plain": [
       "dict_keys(['sports', 'Teams'])"
      ]
     },
     "execution_count": 9,
     "metadata": {},
     "output_type": "execute_result"
    }
   ],
   "source": [
    "dict1={\"sports\":\"cricket\",\"Teams\":[\"India\",\"Australia\",\"England\",\"South Africa\",\"Srilanka\",\"New Zealand\"]}\n",
    "### using Keys()\n",
    "dict1.keys()"
   ]
  },
  {
   "cell_type": "code",
   "execution_count": 10,
   "id": "e0768c24-01b9-4ad5-9466-22fb0a51908b",
   "metadata": {},
   "outputs": [
    {
     "data": {
      "text/plain": [
       "dict_values(['cricket', ['India', 'Australia', 'England', 'South Africa', 'Srilanka', 'New Zealand']])"
      ]
     },
     "execution_count": 10,
     "metadata": {},
     "output_type": "execute_result"
    }
   ],
   "source": [
    "### using values()\n",
    "dict1.values()"
   ]
  },
  {
   "cell_type": "code",
   "execution_count": 11,
   "id": "faa39531-2356-41de-81a6-479ac8edd895",
   "metadata": {},
   "outputs": [
    {
     "data": {
      "text/plain": [
       "dict_items([('sports', 'cricket'), ('Teams', ['India', 'Australia', 'England', 'South Africa', 'Srilanka', 'New Zealand'])])"
      ]
     },
     "execution_count": 11,
     "metadata": {},
     "output_type": "execute_result"
    }
   ],
   "source": [
    "### using item()\n",
    "dict1.items()"
   ]
  }
 ],
 "metadata": {
  "kernelspec": {
   "display_name": "Python 3 (ipykernel)",
   "language": "python",
   "name": "python3"
  },
  "language_info": {
   "codemirror_mode": {
    "name": "ipython",
    "version": 3
   },
   "file_extension": ".py",
   "mimetype": "text/x-python",
   "name": "python",
   "nbconvert_exporter": "python",
   "pygments_lexer": "ipython3",
   "version": "3.10.8"
  }
 },
 "nbformat": 4,
 "nbformat_minor": 5
}

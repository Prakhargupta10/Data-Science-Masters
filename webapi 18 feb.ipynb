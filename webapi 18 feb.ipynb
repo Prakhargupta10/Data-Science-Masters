{
 "cells": [
  {
   "cell_type": "markdown",
   "id": "a7ed2678-195a-47d6-9b16-74b56730ad20",
   "metadata": {},
   "source": [
    "### Q1. What is an API? Give an example, where an API is used in real life."
   ]
  },
  {
   "cell_type": "markdown",
   "id": "27054cf2-8e1e-4303-91da-5e3056fd426f",
   "metadata": {},
   "source": [
    "APIs are used in web applications to connect user-facing front ends with critical back-end functionality and data. APIs are used to deliver material by streaming services such as Spotify and Netflix. APIs are used by automakers such as Tesla to provide software upgrades."
   ]
  },
  {
   "cell_type": "markdown",
   "id": "fed118fb-3eab-477f-9383-6532c27d7dc9",
   "metadata": {},
   "source": [
    " For example, the weather bureau's software system contains daily weather data. The weather app on your phone “talks” to this system via APIs and shows you daily weather updates on your phone."
   ]
  },
  {
   "cell_type": "markdown",
   "id": "6e0b1286-46e0-47d4-906c-d8cc5530cabc",
   "metadata": {},
   "source": [
    "### Q2. Give advantages and disadvantages of using API."
   ]
  },
  {
   "cell_type": "markdown",
   "id": "a09d36f9-26c1-4a34-9edd-67f30f41330e",
   "metadata": {},
   "source": [
    "Advantages:\n",
    "\n",
    "1. Increased Interoperability: API solutions enable different software systems to communicate with each other, regardless of their programming language or platform. This enhances the interoperability between systems, allowing for the exchange of data and functionality.\n",
    "2. Improved Efficiency: API driven infrastructures enable developers to reuse code and functionality from existing software systems, saving time and reducing the amount of code that needs to be written from scratch.\n",
    "3. Better User Experience: APIs can enable third-party developers to create applications that integrate with existing software systems, providing a better user experience and increased functionality.\n",
    "4. Increased Flexibility: APIs provide developers with greater flexibility, enabling them to choose the best programming languages and frameworks for their needs.\n",
    "5. New Revenue Streams: APIs can enable companies to create new revenue streams by providing third-party developers with access to their software systems."
   ]
  },
  {
   "cell_type": "markdown",
   "id": "9b8ab480-c124-4602-b13d-bffbf946b111",
   "metadata": {},
   "source": [
    "Disadvantages:\n",
    "1. Security Concerns: API infrastructures can be vulnerable to security breaches, such as SQL injection attacks and cross-site scripting (XSS) attacks, making it crucial to implement security measures to protect against these threats.\n",
    "2. Complexity: APIs can be complex, requiring a significant amount of development effort to implement and maintain.\n",
    "3. Compatibility Issues: APIs can have compatibility issues between different versions of the same software system or between different systems, which can lead to errors and system failures.\n",
    "4. Dependency on Third-Party Developers: APIs rely on third-party developers to create applications that integrate with the software system. This can create dependencies that are outside of the control of the company that owns the software system.\n",
    "5. Governance and Management: APIs require proper governance and management to ensure they are being used correctly and consistently across different applications and systems."
   ]
  },
  {
   "cell_type": "markdown",
   "id": "478c865f-8250-44a0-ae38-acf7b1629543",
   "metadata": {},
   "source": [
    "### Q3. What is a Web API? Differentiate between API and Web API."
   ]
  },
  {
   "cell_type": "markdown",
   "id": "d375ea37-ee12-4754-b1de-dc74adc543ad",
   "metadata": {},
   "source": [
    "A Web API of a service is a component that defines the rules that client applications need to follow to access the service. These rules include underlying protocols, output formats, input data formats, and access and authentication mechanisms."
   ]
  },
  {
   "cell_type": "markdown",
   "id": "10ceb2c5-6250-4055-8486-4f41b7757036",
   "metadata": {},
   "source": [
    "API is an interface that exposes an application's data to outside software, whereas web applications are one type of API with stricter requirements. These requirements include network communication, SOAP as the primary protocol, and less accessibility for the public"
   ]
  },
  {
   "cell_type": "markdown",
   "id": "3d318c11-6d33-49f1-a98c-211aa81d5bcb",
   "metadata": {},
   "source": [
    "### Q4. Explain REST and SOAP Architecture. Mention shortcomings of SOAP."
   ]
  },
  {
   "cell_type": "markdown",
   "id": "5434661d-235f-4da0-8a4c-13a00553d52b",
   "metadata": {},
   "source": [
    "REST is a set of guidelines that offers flexible implementation, whereas SOAP is a protocol with specific requirements like XML messaging. REST APIs are lightweight, making them ideal for newer contexts like the Internet of Things (IoT), mobile application development, and serverless computing"
   ]
  },
  {
   "cell_type": "markdown",
   "id": "9f3c9aad-70a8-4ff2-867b-73c3c281120c",
   "metadata": {},
   "source": [
    "As SOAP can only transfer messages as XML files, your SOAP API will be less performant, as XML is a verbose format compared to JSON. API calls made to your server will need more bandwidth and it will take more time to process the request and transfer the response back to the client."
   ]
  },
  {
   "cell_type": "markdown",
   "id": "d08c5a72-f1ef-4a8e-b8d3-48ff03e54fea",
   "metadata": {},
   "source": [
    "### Q5. Differentiate between REST and SOAP."
   ]
  },
  {
   "cell_type": "markdown",
   "id": "cc569d49-465b-4a40-9a94-b8ab9d2036ea",
   "metadata": {},
   "source": [
    "1. SOAP stands for Simple Object Access Protocol and REST stands for Representational State Transfer.\n",
    "2. Since SOAP is a protocol, it follows a strict standard to allow communication between the client and the server whereas REST is an architectural style that doesn’t follow any strict standard but follows six constraints defined by Roy Fielding in 2000. Those constraints are – Uniform Interface, Client-Server, Stateless, Cacheable, Layered System, Code on Demand.\n",
    "3. SOAP uses only XML for exchanging information in its message format whereas REST is not restricted to XML and its the choice of implementer which Media-Type to use like XML, JSON, Plain-text. Moreover, REST can use SOAP protocol but SOAP cannot use REST.\n",
    "4. On behalf of services interfaces to business logic, SOAP uses @WebService whereas REST instead of using interfaces uses URI like @Path.\n",
    "5. SOAP is difficult to implement and it requires more bandwidth whereas REST is easy to implement and requires less bandwidth such as smartphone"
   ]
  }
 ],
 "metadata": {
  "kernelspec": {
   "display_name": "Python 3 (ipykernel)",
   "language": "python",
   "name": "python3"
  },
  "language_info": {
   "codemirror_mode": {
    "name": "ipython",
    "version": 3
   },
   "file_extension": ".py",
   "mimetype": "text/x-python",
   "name": "python",
   "nbconvert_exporter": "python",
   "pygments_lexer": "ipython3",
   "version": "3.10.8"
  }
 },
 "nbformat": 4,
 "nbformat_minor": 5
}
